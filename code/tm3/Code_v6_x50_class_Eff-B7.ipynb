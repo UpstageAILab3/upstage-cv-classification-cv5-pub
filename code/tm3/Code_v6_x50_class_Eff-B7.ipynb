{
 "cells": [
  {
   "cell_type": "code",
   "execution_count": 1,
   "metadata": {},
   "outputs": [
    {
     "name": "stderr",
     "output_type": "stream",
     "text": [
      "Failed to detect the name of this notebook, you can set it manually with the WANDB_NOTEBOOK_NAME environment variable to enable code saving.\n",
      "\u001b[34m\u001b[1mwandb\u001b[0m: Currently logged in as: \u001b[33mkerynh\u001b[0m (\u001b[33mkerynhan\u001b[0m). Use \u001b[1m`wandb login --relogin`\u001b[0m to force relogin\n"
     ]
    },
    {
     "data": {
      "text/html": [
       "wandb version 0.17.6 is available!  To upgrade, please run:\n",
       " $ pip install wandb --upgrade"
      ],
      "text/plain": [
       "<IPython.core.display.HTML object>"
      ]
     },
     "metadata": {},
     "output_type": "display_data"
    },
    {
     "data": {
      "text/html": [
       "Tracking run with wandb version 0.17.5"
      ],
      "text/plain": [
       "<IPython.core.display.HTML object>"
      ]
     },
     "metadata": {},
     "output_type": "display_data"
    },
    {
     "data": {
      "text/html": [
       "Run data is saved locally in <code>/data/ephemeral/home/wandb/run-20240811_090048-79anh2ul</code>"
      ],
      "text/plain": [
       "<IPython.core.display.HTML object>"
      ]
     },
     "metadata": {},
     "output_type": "display_data"
    },
    {
     "data": {
      "text/html": [
       "Syncing run <strong><a href='https://wandb.ai/kerynhan/v6_x50_class/runs/79anh2ul' target=\"_blank\">polt-voting_eff-B7</a></strong> to <a href='https://wandb.ai/kerynhan/v6_x50_class' target=\"_blank\">Weights & Biases</a> (<a href='https://wandb.me/run' target=\"_blank\">docs</a>)<br/>"
      ],
      "text/plain": [
       "<IPython.core.display.HTML object>"
      ]
     },
     "metadata": {},
     "output_type": "display_data"
    },
    {
     "data": {
      "text/html": [
       " View project at <a href='https://wandb.ai/kerynhan/v6_x50_class' target=\"_blank\">https://wandb.ai/kerynhan/v6_x50_class</a>"
      ],
      "text/plain": [
       "<IPython.core.display.HTML object>"
      ]
     },
     "metadata": {},
     "output_type": "display_data"
    },
    {
     "data": {
      "text/html": [
       " View run at <a href='https://wandb.ai/kerynhan/v6_x50_class/runs/79anh2ul' target=\"_blank\">https://wandb.ai/kerynhan/v6_x50_class/runs/79anh2ul</a>"
      ],
      "text/plain": [
       "<IPython.core.display.HTML object>"
      ]
     },
     "metadata": {},
     "output_type": "display_data"
    },
    {
     "name": "stdout",
     "output_type": "stream",
     "text": [
      "Fold 1\n"
     ]
    },
    {
     "name": "stderr",
     "output_type": "stream",
     "text": [
      "/opt/conda/lib/python3.10/site-packages/timm/models/_factory.py:117: UserWarning: Mapping deprecated model name tf_efficientnet_b7_ns to current tf_efficientnet_b7.ns_jft_in1k.\n",
      "  model = create_fn(\n",
      "Loss: 0.1949: 100%|██████████| 3925/3925 [22:09<00:00,  2.95it/s]\n",
      "Validating: 100%|██████████| 982/982 [02:47<00:00,  5.85it/s]\n"
     ]
    },
    {
     "name": "stdout",
     "output_type": "stream",
     "text": [
      "Epoch 1/50, Train Loss: 0.7865, Train Acc: 0.7580, Train F1: 0.7425\n",
      "Epoch 1/50, Val Loss: 0.1007, Val Acc: 0.9652, Val F1: 0.9643\n"
     ]
    },
    {
     "name": "stderr",
     "output_type": "stream",
     "text": [
      "Loss: 0.0039: 100%|██████████| 3925/3925 [21:41<00:00,  3.02it/s]\n",
      "Validating: 100%|██████████| 982/982 [02:37<00:00,  6.22it/s]\n"
     ]
    },
    {
     "name": "stdout",
     "output_type": "stream",
     "text": [
      "Epoch 2/50, Train Loss: 0.1194, Train Acc: 0.9645, Train F1: 0.9630\n",
      "Epoch 2/50, Val Loss: 0.0091, Val Acc: 0.9976, Val F1: 0.9974\n"
     ]
    },
    {
     "name": "stderr",
     "output_type": "stream",
     "text": [
      "Loss: 0.0031: 100%|██████████| 3925/3925 [21:42<00:00,  3.01it/s]\n",
      "Validating: 100%|██████████| 982/982 [02:36<00:00,  6.29it/s]\n"
     ]
    },
    {
     "name": "stdout",
     "output_type": "stream",
     "text": [
      "Epoch 3/50, Train Loss: 0.0504, Train Acc: 0.9860, Train F1: 0.9855\n",
      "Epoch 3/50, Val Loss: 0.0078, Val Acc: 0.9980, Val F1: 0.9980\n"
     ]
    },
    {
     "name": "stderr",
     "output_type": "stream",
     "text": [
      "Loss: 0.0076: 100%|██████████| 3925/3925 [21:42<00:00,  3.01it/s]\n",
      "Validating: 100%|██████████| 982/982 [02:33<00:00,  6.40it/s]\n"
     ]
    },
    {
     "name": "stdout",
     "output_type": "stream",
     "text": [
      "Epoch 4/50, Train Loss: 0.0388, Train Acc: 0.9903, Train F1: 0.9899\n",
      "Epoch 4/50, Val Loss: 0.0067, Val Acc: 0.9983, Val F1: 0.9984\n"
     ]
    },
    {
     "name": "stderr",
     "output_type": "stream",
     "text": [
      "Loss: 0.0006: 100%|██████████| 3925/3925 [20:00<00:00,  3.27it/s]\n",
      "Validating: 100%|██████████| 982/982 [01:52<00:00,  8.73it/s]\n"
     ]
    },
    {
     "name": "stdout",
     "output_type": "stream",
     "text": [
      "Epoch 5/50, Train Loss: 0.0392, Train Acc: 0.9906, Train F1: 0.9902\n",
      "Epoch 5/50, Val Loss: 0.0037, Val Acc: 0.9993, Val F1: 0.9994\n"
     ]
    },
    {
     "name": "stderr",
     "output_type": "stream",
     "text": [
      "Loss: 0.0008: 100%|██████████| 3925/3925 [16:06<00:00,  4.06it/s]\n",
      "Validating: 100%|██████████| 982/982 [01:52<00:00,  8.73it/s]\n"
     ]
    },
    {
     "name": "stdout",
     "output_type": "stream",
     "text": [
      "Epoch 6/50, Train Loss: 0.0365, Train Acc: 0.9914, Train F1: 0.9909\n",
      "Epoch 6/50, Val Loss: 0.0060, Val Acc: 0.9991, Val F1: 0.9992\n"
     ]
    },
    {
     "name": "stderr",
     "output_type": "stream",
     "text": [
      "Loss: 0.1260: 100%|██████████| 3925/3925 [16:05<00:00,  4.06it/s]\n",
      "Validating: 100%|██████████| 982/982 [01:56<00:00,  8.43it/s]\n"
     ]
    },
    {
     "name": "stdout",
     "output_type": "stream",
     "text": [
      "Epoch 7/50, Train Loss: 0.0355, Train Acc: 0.9915, Train F1: 0.9910\n",
      "Epoch 7/50, Val Loss: 0.0099, Val Acc: 0.9985, Val F1: 0.9985\n"
     ]
    },
    {
     "name": "stderr",
     "output_type": "stream",
     "text": [
      "Loss: 0.0022: 100%|██████████| 3925/3925 [20:02<00:00,  3.26it/s]\n",
      "Validating: 100%|██████████| 982/982 [01:55<00:00,  8.51it/s]\n"
     ]
    },
    {
     "name": "stdout",
     "output_type": "stream",
     "text": [
      "Epoch 8/50, Train Loss: 0.0419, Train Acc: 0.9899, Train F1: 0.9895\n",
      "Epoch 8/50, Val Loss: 0.0269, Val Acc: 0.9958, Val F1: 0.9958\n"
     ]
    },
    {
     "name": "stderr",
     "output_type": "stream",
     "text": [
      "Loss: 0.0099: 100%|██████████| 3925/3925 [16:00<00:00,  4.09it/s]\n",
      "Validating: 100%|██████████| 982/982 [01:56<00:00,  8.46it/s]\n"
     ]
    },
    {
     "name": "stdout",
     "output_type": "stream",
     "text": [
      "Epoch 9/50, Train Loss: 0.0393, Train Acc: 0.9904, Train F1: 0.9901\n",
      "Epoch 9/50, Val Loss: 0.0169, Val Acc: 0.9976, Val F1: 0.9974\n"
     ]
    },
    {
     "name": "stderr",
     "output_type": "stream",
     "text": [
      "Loss: 0.0209: 100%|██████████| 3925/3925 [16:05<00:00,  4.06it/s]\n",
      "Validating: 100%|██████████| 982/982 [01:56<00:00,  8.46it/s]\n",
      "/opt/conda/lib/python3.10/site-packages/timm/models/_factory.py:117: UserWarning: Mapping deprecated model name tf_efficientnet_b7_ns to current tf_efficientnet_b7.ns_jft_in1k.\n",
      "  model = create_fn(\n"
     ]
    },
    {
     "name": "stdout",
     "output_type": "stream",
     "text": [
      "Epoch 10/50, Train Loss: 0.0405, Train Acc: 0.9909, Train F1: 0.9904\n",
      "Epoch 10/50, Val Loss: 0.0151, Val Acc: 0.9969, Val F1: 0.9968\n",
      "Early stopping triggered at epoch 10\n",
      "Fold 1 Macro F1 Score: 0.9968\n",
      "Fold 2\n"
     ]
    },
    {
     "name": "stderr",
     "output_type": "stream",
     "text": [
      "Loss: 0.0385: 100%|██████████| 3925/3925 [16:06<00:00,  4.06it/s]\n",
      "Validating: 100%|██████████| 982/982 [01:56<00:00,  8.45it/s]\n"
     ]
    },
    {
     "name": "stdout",
     "output_type": "stream",
     "text": [
      "Epoch 1/50, Train Loss: 0.7762, Train Acc: 0.7594, Train F1: 0.7449\n",
      "Epoch 1/50, Val Loss: 0.1011, Val Acc: 0.9656, Val F1: 0.9639\n"
     ]
    },
    {
     "name": "stderr",
     "output_type": "stream",
     "text": [
      "Loss: 0.3826: 100%|██████████| 3925/3925 [16:06<00:00,  4.06it/s]\n",
      "Validating: 100%|██████████| 982/982 [01:56<00:00,  8.46it/s]\n"
     ]
    },
    {
     "name": "stdout",
     "output_type": "stream",
     "text": [
      "Epoch 2/50, Train Loss: 0.1151, Train Acc: 0.9649, Train F1: 0.9637\n",
      "Epoch 2/50, Val Loss: 0.0142, Val Acc: 0.9955, Val F1: 0.9954\n"
     ]
    },
    {
     "name": "stderr",
     "output_type": "stream",
     "text": [
      "Loss: 0.0012: 100%|██████████| 3925/3925 [16:08<00:00,  4.05it/s]\n",
      "Validating: 100%|██████████| 982/982 [01:56<00:00,  8.45it/s]\n"
     ]
    },
    {
     "name": "stdout",
     "output_type": "stream",
     "text": [
      "Epoch 3/50, Train Loss: 0.0516, Train Acc: 0.9861, Train F1: 0.9856\n",
      "Epoch 3/50, Val Loss: 0.0044, Val Acc: 0.9988, Val F1: 0.9988\n"
     ]
    },
    {
     "name": "stderr",
     "output_type": "stream",
     "text": [
      "Loss: 0.1034: 100%|██████████| 3925/3925 [15:21<00:00,  4.26it/s]\n",
      "Validating: 100%|██████████| 982/982 [01:18<00:00, 12.53it/s]\n"
     ]
    },
    {
     "name": "stdout",
     "output_type": "stream",
     "text": [
      "Epoch 4/50, Train Loss: 0.0421, Train Acc: 0.9897, Train F1: 0.9893\n",
      "Epoch 4/50, Val Loss: 0.0037, Val Acc: 0.9989, Val F1: 0.9988\n"
     ]
    },
    {
     "name": "stderr",
     "output_type": "stream",
     "text": [
      "Loss: 0.0095: 100%|██████████| 3925/3925 [12:20<00:00,  5.30it/s]\n",
      "Validating: 100%|██████████| 982/982 [01:18<00:00, 12.54it/s]\n"
     ]
    },
    {
     "name": "stdout",
     "output_type": "stream",
     "text": [
      "Epoch 5/50, Train Loss: 0.0372, Train Acc: 0.9913, Train F1: 0.9908\n",
      "Epoch 5/50, Val Loss: 0.0054, Val Acc: 0.9987, Val F1: 0.9987\n"
     ]
    },
    {
     "name": "stderr",
     "output_type": "stream",
     "text": [
      "Loss: 0.0007: 100%|██████████| 3925/3925 [11:07<00:00,  5.88it/s]\n",
      "Validating: 100%|██████████| 982/982 [01:18<00:00, 12.50it/s]\n"
     ]
    },
    {
     "name": "stdout",
     "output_type": "stream",
     "text": [
      "Epoch 6/50, Train Loss: 0.0401, Train Acc: 0.9907, Train F1: 0.9902\n",
      "Epoch 6/50, Val Loss: 0.0107, Val Acc: 0.9982, Val F1: 0.9981\n"
     ]
    },
    {
     "name": "stderr",
     "output_type": "stream",
     "text": [
      "Loss: 0.0175: 100%|██████████| 3925/3925 [11:08<00:00,  5.87it/s]\n",
      "Validating: 100%|██████████| 982/982 [01:18<00:00, 12.49it/s]\n"
     ]
    },
    {
     "name": "stdout",
     "output_type": "stream",
     "text": [
      "Epoch 7/50, Train Loss: 0.0395, Train Acc: 0.9910, Train F1: 0.9905\n",
      "Epoch 7/50, Val Loss: 0.0101, Val Acc: 0.9978, Val F1: 0.9976\n"
     ]
    },
    {
     "name": "stderr",
     "output_type": "stream",
     "text": [
      "Loss: 0.0008: 100%|██████████| 3925/3925 [11:08<00:00,  5.87it/s]\n",
      "Validating: 100%|██████████| 982/982 [01:18<00:00, 12.51it/s]\n"
     ]
    },
    {
     "name": "stdout",
     "output_type": "stream",
     "text": [
      "Epoch 8/50, Train Loss: 0.0412, Train Acc: 0.9906, Train F1: 0.9900\n",
      "Epoch 8/50, Val Loss: 0.0108, Val Acc: 0.9979, Val F1: 0.9979\n"
     ]
    },
    {
     "name": "stderr",
     "output_type": "stream",
     "text": [
      "Loss: 0.0011: 100%|██████████| 3925/3925 [11:06<00:00,  5.88it/s]\n",
      "Validating: 100%|██████████| 982/982 [01:18<00:00, 12.54it/s]\n",
      "/opt/conda/lib/python3.10/site-packages/timm/models/_factory.py:117: UserWarning: Mapping deprecated model name tf_efficientnet_b7_ns to current tf_efficientnet_b7.ns_jft_in1k.\n",
      "  model = create_fn(\n"
     ]
    },
    {
     "name": "stdout",
     "output_type": "stream",
     "text": [
      "Epoch 9/50, Train Loss: 0.0452, Train Acc: 0.9901, Train F1: 0.9896\n",
      "Epoch 9/50, Val Loss: 0.0191, Val Acc: 0.9965, Val F1: 0.9963\n",
      "Early stopping triggered at epoch 9\n",
      "Fold 2 Macro F1 Score: 0.9963\n",
      "Fold 3\n"
     ]
    },
    {
     "name": "stderr",
     "output_type": "stream",
     "text": [
      "Loss: 0.0896: 100%|██████████| 3925/3925 [11:08<00:00,  5.88it/s]\n",
      "Validating: 100%|██████████| 982/982 [01:18<00:00, 12.56it/s]\n"
     ]
    },
    {
     "name": "stdout",
     "output_type": "stream",
     "text": [
      "Epoch 1/50, Train Loss: 0.7822, Train Acc: 0.7557, Train F1: 0.7393\n",
      "Epoch 1/50, Val Loss: 0.1058, Val Acc: 0.9645, Val F1: 0.9632\n"
     ]
    },
    {
     "name": "stderr",
     "output_type": "stream",
     "text": [
      "Loss: 0.2867: 100%|██████████| 3925/3925 [11:07<00:00,  5.88it/s]\n",
      "Validating: 100%|██████████| 982/982 [01:18<00:00, 12.57it/s]\n"
     ]
    },
    {
     "name": "stdout",
     "output_type": "stream",
     "text": [
      "Epoch 2/50, Train Loss: 0.1196, Train Acc: 0.9635, Train F1: 0.9618\n",
      "Epoch 2/50, Val Loss: 0.0128, Val Acc: 0.9968, Val F1: 0.9967\n"
     ]
    },
    {
     "name": "stderr",
     "output_type": "stream",
     "text": [
      "Loss: 0.0005: 100%|██████████| 3925/3925 [11:07<00:00,  5.88it/s]\n",
      "Validating: 100%|██████████| 982/982 [01:18<00:00, 12.59it/s]\n"
     ]
    },
    {
     "name": "stdout",
     "output_type": "stream",
     "text": [
      "Epoch 3/50, Train Loss: 0.0501, Train Acc: 0.9866, Train F1: 0.9860\n",
      "Epoch 3/50, Val Loss: 0.0044, Val Acc: 0.9989, Val F1: 0.9988\n"
     ]
    },
    {
     "name": "stderr",
     "output_type": "stream",
     "text": [
      "Loss: 0.0001: 100%|██████████| 3925/3925 [10:24<00:00,  6.29it/s]\n",
      "Validating: 100%|██████████| 982/982 [00:40<00:00, 24.23it/s]\n"
     ]
    },
    {
     "name": "stdout",
     "output_type": "stream",
     "text": [
      "Epoch 4/50, Train Loss: 0.0373, Train Acc: 0.9902, Train F1: 0.9898\n",
      "Epoch 4/50, Val Loss: 0.0075, Val Acc: 0.9982, Val F1: 0.9982\n"
     ]
    },
    {
     "name": "stderr",
     "output_type": "stream",
     "text": [
      "Loss: 0.0006: 100%|██████████| 3925/3925 [07:20<00:00,  8.91it/s]\n",
      "Validating: 100%|██████████| 982/982 [00:40<00:00, 24.23it/s]\n"
     ]
    },
    {
     "name": "stdout",
     "output_type": "stream",
     "text": [
      "Epoch 5/50, Train Loss: 0.0351, Train Acc: 0.9913, Train F1: 0.9910\n",
      "Epoch 5/50, Val Loss: 0.0067, Val Acc: 0.9987, Val F1: 0.9987\n"
     ]
    },
    {
     "name": "stderr",
     "output_type": "stream",
     "text": [
      "Loss: 0.0022: 100%|██████████| 3925/3925 [07:19<00:00,  8.92it/s]\n",
      "Validating: 100%|██████████| 982/982 [00:40<00:00, 24.23it/s]\n"
     ]
    },
    {
     "name": "stdout",
     "output_type": "stream",
     "text": [
      "Epoch 6/50, Train Loss: 0.0355, Train Acc: 0.9915, Train F1: 0.9909\n",
      "Epoch 6/50, Val Loss: 0.0105, Val Acc: 0.9982, Val F1: 0.9980\n"
     ]
    },
    {
     "name": "stderr",
     "output_type": "stream",
     "text": [
      "Loss: 0.0006: 100%|██████████| 3925/3925 [07:17<00:00,  8.96it/s]\n",
      "Validating: 100%|██████████| 982/982 [00:40<00:00, 24.21it/s]\n"
     ]
    },
    {
     "name": "stdout",
     "output_type": "stream",
     "text": [
      "Epoch 7/50, Train Loss: 0.0387, Train Acc: 0.9907, Train F1: 0.9902\n",
      "Epoch 7/50, Val Loss: 0.0120, Val Acc: 0.9980, Val F1: 0.9978\n"
     ]
    },
    {
     "name": "stderr",
     "output_type": "stream",
     "text": [
      "Loss: 0.0045: 100%|██████████| 3925/3925 [07:19<00:00,  8.93it/s]\n",
      "Validating: 100%|██████████| 982/982 [00:40<00:00, 24.22it/s]\n",
      "/opt/conda/lib/python3.10/site-packages/timm/models/_factory.py:117: UserWarning: Mapping deprecated model name tf_efficientnet_b7_ns to current tf_efficientnet_b7.ns_jft_in1k.\n",
      "  model = create_fn(\n"
     ]
    },
    {
     "name": "stdout",
     "output_type": "stream",
     "text": [
      "Epoch 8/50, Train Loss: 0.0409, Train Acc: 0.9905, Train F1: 0.9900\n",
      "Epoch 8/50, Val Loss: 0.0251, Val Acc: 0.9939, Val F1: 0.9938\n",
      "Early stopping triggered at epoch 8\n",
      "Fold 3 Macro F1 Score: 0.9938\n",
      "Fold 4\n"
     ]
    },
    {
     "name": "stderr",
     "output_type": "stream",
     "text": [
      "Loss: 0.3197: 100%|██████████| 3925/3925 [07:21<00:00,  8.90it/s]\n",
      "Validating: 100%|██████████| 982/982 [00:40<00:00, 24.18it/s]\n"
     ]
    },
    {
     "name": "stdout",
     "output_type": "stream",
     "text": [
      "Epoch 1/50, Train Loss: 0.7861, Train Acc: 0.7566, Train F1: 0.7421\n",
      "Epoch 1/50, Val Loss: 0.1002, Val Acc: 0.9646, Val F1: 0.9622\n"
     ]
    },
    {
     "name": "stderr",
     "output_type": "stream",
     "text": [
      "Loss: 0.1936: 100%|██████████| 3925/3925 [07:18<00:00,  8.95it/s]\n",
      "Validating: 100%|██████████| 982/982 [00:40<00:00, 24.18it/s]\n"
     ]
    },
    {
     "name": "stdout",
     "output_type": "stream",
     "text": [
      "Epoch 2/50, Train Loss: 0.1198, Train Acc: 0.9639, Train F1: 0.9625\n",
      "Epoch 2/50, Val Loss: 0.0110, Val Acc: 0.9968, Val F1: 0.9967\n"
     ]
    },
    {
     "name": "stderr",
     "output_type": "stream",
     "text": [
      "Loss: 0.0079: 100%|██████████| 3925/3925 [07:19<00:00,  8.93it/s]\n",
      "Validating: 100%|██████████| 982/982 [00:40<00:00, 24.17it/s]\n"
     ]
    },
    {
     "name": "stdout",
     "output_type": "stream",
     "text": [
      "Epoch 3/50, Train Loss: 0.0525, Train Acc: 0.9863, Train F1: 0.9858\n",
      "Epoch 3/50, Val Loss: 0.0059, Val Acc: 0.9984, Val F1: 0.9983\n"
     ]
    },
    {
     "name": "stderr",
     "output_type": "stream",
     "text": [
      "Loss: 0.0002: 100%|██████████| 3925/3925 [07:16<00:00,  8.98it/s]\n",
      "Validating: 100%|██████████| 982/982 [00:40<00:00, 24.18it/s]\n"
     ]
    },
    {
     "name": "stdout",
     "output_type": "stream",
     "text": [
      "Epoch 4/50, Train Loss: 0.0424, Train Acc: 0.9892, Train F1: 0.9886\n",
      "Epoch 4/50, Val Loss: 0.0085, Val Acc: 0.9983, Val F1: 0.9982\n"
     ]
    },
    {
     "name": "stderr",
     "output_type": "stream",
     "text": [
      "Loss: 0.0004: 100%|██████████| 3925/3925 [07:18<00:00,  8.95it/s]\n",
      "Validating: 100%|██████████| 982/982 [00:40<00:00, 24.21it/s]\n"
     ]
    },
    {
     "name": "stdout",
     "output_type": "stream",
     "text": [
      "Epoch 5/50, Train Loss: 0.0382, Train Acc: 0.9907, Train F1: 0.9904\n",
      "Epoch 5/50, Val Loss: 0.0059, Val Acc: 0.9983, Val F1: 0.9983\n"
     ]
    },
    {
     "name": "stderr",
     "output_type": "stream",
     "text": [
      "Loss: 0.0274: 100%|██████████| 3925/3925 [07:19<00:00,  8.93it/s]\n",
      "Validating: 100%|██████████| 982/982 [00:40<00:00, 24.23it/s]\n"
     ]
    },
    {
     "name": "stdout",
     "output_type": "stream",
     "text": [
      "Epoch 6/50, Train Loss: 0.0399, Train Acc: 0.9905, Train F1: 0.9900\n",
      "Epoch 6/50, Val Loss: 0.0060, Val Acc: 0.9989, Val F1: 0.9988\n"
     ]
    },
    {
     "name": "stderr",
     "output_type": "stream",
     "text": [
      "Loss: 0.0011: 100%|██████████| 3925/3925 [07:19<00:00,  8.93it/s]\n",
      "Validating: 100%|██████████| 982/982 [00:40<00:00, 24.23it/s]\n"
     ]
    },
    {
     "name": "stdout",
     "output_type": "stream",
     "text": [
      "Epoch 7/50, Train Loss: 0.0379, Train Acc: 0.9911, Train F1: 0.9907\n",
      "Epoch 7/50, Val Loss: 0.0069, Val Acc: 0.9987, Val F1: 0.9985\n"
     ]
    },
    {
     "name": "stderr",
     "output_type": "stream",
     "text": [
      "Loss: 0.0033: 100%|██████████| 3925/3925 [07:19<00:00,  8.92it/s]\n",
      "Validating: 100%|██████████| 982/982 [00:40<00:00, 24.22it/s]\n",
      "/opt/conda/lib/python3.10/site-packages/timm/models/_factory.py:117: UserWarning: Mapping deprecated model name tf_efficientnet_b7_ns to current tf_efficientnet_b7.ns_jft_in1k.\n",
      "  model = create_fn(\n"
     ]
    },
    {
     "name": "stdout",
     "output_type": "stream",
     "text": [
      "Epoch 8/50, Train Loss: 0.0385, Train Acc: 0.9907, Train F1: 0.9902\n",
      "Epoch 8/50, Val Loss: 0.0145, Val Acc: 0.9981, Val F1: 0.9980\n",
      "Early stopping triggered at epoch 8\n",
      "Fold 4 Macro F1 Score: 0.9980\n",
      "Fold 5\n"
     ]
    },
    {
     "name": "stderr",
     "output_type": "stream",
     "text": [
      "Loss: 0.0720: 100%|██████████| 3925/3925 [07:17<00:00,  8.97it/s]\n",
      "Validating: 100%|██████████| 982/982 [00:40<00:00, 24.29it/s]\n"
     ]
    },
    {
     "name": "stdout",
     "output_type": "stream",
     "text": [
      "Epoch 1/50, Train Loss: 0.7748, Train Acc: 0.7602, Train F1: 0.7458\n",
      "Epoch 1/50, Val Loss: 0.0993, Val Acc: 0.9663, Val F1: 0.9649\n"
     ]
    },
    {
     "name": "stderr",
     "output_type": "stream",
     "text": [
      "Loss: 0.0011: 100%|██████████| 3925/3925 [07:21<00:00,  8.88it/s]\n",
      "Validating: 100%|██████████| 982/982 [00:40<00:00, 24.21it/s]\n"
     ]
    },
    {
     "name": "stdout",
     "output_type": "stream",
     "text": [
      "Epoch 2/50, Train Loss: 0.1201, Train Acc: 0.9638, Train F1: 0.9621\n",
      "Epoch 2/50, Val Loss: 0.0084, Val Acc: 0.9977, Val F1: 0.9976\n"
     ]
    },
    {
     "name": "stderr",
     "output_type": "stream",
     "text": [
      "Loss: 0.0044: 100%|██████████| 3925/3925 [07:19<00:00,  8.94it/s]\n",
      "Validating: 100%|██████████| 982/982 [00:40<00:00, 24.25it/s]\n"
     ]
    },
    {
     "name": "stdout",
     "output_type": "stream",
     "text": [
      "Epoch 3/50, Train Loss: 0.0515, Train Acc: 0.9862, Train F1: 0.9857\n",
      "Epoch 3/50, Val Loss: 0.0076, Val Acc: 0.9984, Val F1: 0.9985\n"
     ]
    },
    {
     "name": "stderr",
     "output_type": "stream",
     "text": [
      "Loss: 0.0123: 100%|██████████| 3925/3925 [07:18<00:00,  8.96it/s]\n",
      "Validating: 100%|██████████| 982/982 [00:40<00:00, 24.24it/s]\n"
     ]
    },
    {
     "name": "stdout",
     "output_type": "stream",
     "text": [
      "Epoch 4/50, Train Loss: 0.0426, Train Acc: 0.9893, Train F1: 0.9889\n",
      "Epoch 4/50, Val Loss: 0.0068, Val Acc: 0.9986, Val F1: 0.9984\n"
     ]
    },
    {
     "name": "stderr",
     "output_type": "stream",
     "text": [
      "Loss: 0.0002: 100%|██████████| 3925/3925 [07:20<00:00,  8.91it/s]\n",
      "Validating: 100%|██████████| 982/982 [00:40<00:00, 24.22it/s]\n"
     ]
    },
    {
     "name": "stdout",
     "output_type": "stream",
     "text": [
      "Epoch 5/50, Train Loss: 0.0374, Train Acc: 0.9909, Train F1: 0.9905\n",
      "Epoch 5/50, Val Loss: 0.0065, Val Acc: 0.9985, Val F1: 0.9985\n"
     ]
    },
    {
     "name": "stderr",
     "output_type": "stream",
     "text": [
      "Loss: 0.0006: 100%|██████████| 3925/3925 [07:17<00:00,  8.98it/s]\n",
      "Validating: 100%|██████████| 982/982 [00:40<00:00, 24.19it/s]\n"
     ]
    },
    {
     "name": "stdout",
     "output_type": "stream",
     "text": [
      "Epoch 6/50, Train Loss: 0.0366, Train Acc: 0.9911, Train F1: 0.9906\n",
      "Epoch 6/50, Val Loss: 0.0054, Val Acc: 0.9989, Val F1: 0.9989\n"
     ]
    },
    {
     "name": "stderr",
     "output_type": "stream",
     "text": [
      "Loss: 0.0002: 100%|██████████| 3925/3925 [07:19<00:00,  8.93it/s]\n",
      "Validating: 100%|██████████| 982/982 [00:40<00:00, 24.22it/s]\n"
     ]
    },
    {
     "name": "stdout",
     "output_type": "stream",
     "text": [
      "Epoch 7/50, Train Loss: 0.0389, Train Acc: 0.9911, Train F1: 0.9906\n",
      "Epoch 7/50, Val Loss: 0.0088, Val Acc: 0.9981, Val F1: 0.9979\n"
     ]
    },
    {
     "name": "stderr",
     "output_type": "stream",
     "text": [
      "Loss: 0.0005: 100%|██████████| 3925/3925 [07:20<00:00,  8.92it/s]\n",
      "Validating: 100%|██████████| 982/982 [00:40<00:00, 24.23it/s]\n"
     ]
    },
    {
     "name": "stdout",
     "output_type": "stream",
     "text": [
      "Epoch 8/50, Train Loss: 0.0431, Train Acc: 0.9901, Train F1: 0.9895\n",
      "Epoch 8/50, Val Loss: 0.0158, Val Acc: 0.9981, Val F1: 0.9980\n"
     ]
    },
    {
     "name": "stderr",
     "output_type": "stream",
     "text": [
      "Loss: 0.0036: 100%|██████████| 3925/3925 [07:21<00:00,  8.89it/s]\n",
      "Validating: 100%|██████████| 982/982 [00:40<00:00, 24.23it/s]\n"
     ]
    },
    {
     "name": "stdout",
     "output_type": "stream",
     "text": [
      "Epoch 9/50, Train Loss: 0.0413, Train Acc: 0.9903, Train F1: 0.9899\n",
      "Epoch 9/50, Val Loss: 0.0121, Val Acc: 0.9973, Val F1: 0.9972\n"
     ]
    },
    {
     "name": "stderr",
     "output_type": "stream",
     "text": [
      "Loss: 0.0108: 100%|██████████| 3925/3925 [07:19<00:00,  8.93it/s]\n",
      "Validating: 100%|██████████| 982/982 [00:40<00:00, 24.21it/s]\n"
     ]
    },
    {
     "name": "stdout",
     "output_type": "stream",
     "text": [
      "Epoch 10/50, Train Loss: 0.0465, Train Acc: 0.9894, Train F1: 0.9888\n",
      "Epoch 10/50, Val Loss: 0.0203, Val Acc: 0.9969, Val F1: 0.9967\n"
     ]
    },
    {
     "name": "stderr",
     "output_type": "stream",
     "text": [
      "Loss: 0.0022: 100%|██████████| 3925/3925 [07:19<00:00,  8.93it/s]\n",
      "Validating: 100%|██████████| 982/982 [00:40<00:00, 24.23it/s]\n"
     ]
    },
    {
     "name": "stdout",
     "output_type": "stream",
     "text": [
      "Epoch 11/50, Train Loss: 0.0427, Train Acc: 0.9906, Train F1: 0.9902\n",
      "Epoch 11/50, Val Loss: 0.0237, Val Acc: 0.9973, Val F1: 0.9972\n",
      "Early stopping triggered at epoch 11\n",
      "Fold 5 Macro F1 Score: 0.9972\n"
     ]
    },
    {
     "data": {
      "application/vnd.jupyter.widget-view+json": {
       "model_id": "4f15a6c470804a709fb16286f4e45b77",
       "version_major": 2,
       "version_minor": 0
      },
      "text/plain": [
       "VBox(children=(Label(value='0.006 MB of 0.006 MB uploaded\\r'), FloatProgress(value=1.0, max=1.0)))"
      ]
     },
     "metadata": {},
     "output_type": "display_data"
    },
    {
     "data": {
      "text/html": [
       "<style>\n",
       "    table.wandb td:nth-child(1) { padding: 0 10px; text-align: left ; width: auto;} td:nth-child(2) {text-align: left ; width: 100%}\n",
       "    .wandb-row { display: flex; flex-direction: row; flex-wrap: wrap; justify-content: flex-start; width: 100% }\n",
       "    .wandb-col { display: flex; flex-direction: column; flex-basis: 100%; flex: 1; padding: 10px; }\n",
       "    </style>\n",
       "<div class=\"wandb-row\"><div class=\"wandb-col\"><h3>Run history:</h3><br/><table class=\"wandb\"><tr><td>epoch</td><td>▁▂▃▃▄▅▆▇█▁▂▃▃▄▆▆▇▁▂▃▄▅▆▆▁▂▃▄▅▆▆▁▂▃▄▅▆▆▇█</td></tr><tr><td>train_acc</td><td>▁▇███████▁▇██████▁▇█████▁▇█████▁▇███████</td></tr><tr><td>train_f1</td><td>▁▇███████▁▇██████▁▇█████▁▇█████▁▇███████</td></tr><tr><td>train_loss</td><td>█▂▁▁▁▁▁▁▁█▂▁▁▁▁▁▁█▂▁▁▁▁▁█▂▁▁▁▁▁█▂▁▁▁▁▁▁▁</td></tr><tr><td>val_acc</td><td>▁████████▁▇█████▇▁█████▇▁▇█████▁████████</td></tr><tr><td>val_f1</td><td>▁████████▁▇█████▇▁█████▇▁▇█████▂███████▇</td></tr><tr><td>val_loss</td><td>█▁▁▁▁▁▁▂▂█▂▁▁▁▁▁▂█▂▁▁▁▂▂█▂▁▁▁▁▂█▁▁▁▁▁▂▂▂</td></tr></table><br/></div><div class=\"wandb-col\"><h3>Run summary:</h3><br/><table class=\"wandb\"><tr><td>epoch</td><td>11</td></tr><tr><td>train_acc</td><td>0.99056</td></tr><tr><td>train_f1</td><td>0.99019</td></tr><tr><td>train_loss</td><td>0.04271</td></tr><tr><td>val_acc</td><td>0.99726</td></tr><tr><td>val_f1</td><td>0.99716</td></tr><tr><td>val_loss</td><td>0.02368</td></tr></table><br/></div></div>"
      ],
      "text/plain": [
       "<IPython.core.display.HTML object>"
      ]
     },
     "metadata": {},
     "output_type": "display_data"
    },
    {
     "data": {
      "text/html": [
       " View run <strong style=\"color:#cdcd00\">polt-voting_eff-B7</strong> at: <a href='https://wandb.ai/kerynhan/v6_x50_class/runs/79anh2ul' target=\"_blank\">https://wandb.ai/kerynhan/v6_x50_class/runs/79anh2ul</a><br/> View project at: <a href='https://wandb.ai/kerynhan/v6_x50_class' target=\"_blank\">https://wandb.ai/kerynhan/v6_x50_class</a><br/>Synced 6 W&B file(s), 0 media file(s), 0 artifact file(s) and 0 other file(s)"
      ],
      "text/plain": [
       "<IPython.core.display.HTML object>"
      ]
     },
     "metadata": {},
     "output_type": "display_data"
    },
    {
     "data": {
      "text/html": [
       "Find logs at: <code>./wandb/run-20240811_090048-79anh2ul/logs</code>"
      ],
      "text/plain": [
       "<IPython.core.display.HTML object>"
      ]
     },
     "metadata": {},
     "output_type": "display_data"
    },
    {
     "data": {
      "text/html": [
       "The new W&B backend becomes opt-out in version 0.18.0; try it out with `wandb.require(\"core\")`! See https://wandb.me/wandb-core for more information."
      ],
      "text/plain": [
       "<IPython.core.display.HTML object>"
      ]
     },
     "metadata": {},
     "output_type": "display_data"
    }
   ],
   "source": [
    "import os\n",
    "import random\n",
    "import timm\n",
    "import torch\n",
    "import albumentations as A\n",
    "import pandas as pd\n",
    "import numpy as np\n",
    "import torch.nn as nn\n",
    "from albumentations.pytorch import ToTensorV2\n",
    "from torch.optim import Adam\n",
    "from torch.optim.lr_scheduler import CosineAnnealingWarmRestarts\n",
    "from torch.utils.data import Dataset, DataLoader\n",
    "from tqdm import tqdm\n",
    "from sklearn.metrics import accuracy_score, f1_score\n",
    "from sklearn.model_selection import StratifiedKFold\n",
    "from PIL import Image\n",
    "import wandb\n",
    "\n",
    "# 시드 고정\n",
    "SEED = 42\n",
    "os.environ['PYTHONHASHSEED'] = str(SEED)\n",
    "random.seed(SEED)\n",
    "np.random.seed(SEED)\n",
    "torch.manual_seed(SEED)\n",
    "torch.cuda.manual_seed(SEED)\n",
    "torch.cuda.manual_seed_all(SEED)\n",
    "torch.backends.cudnn.benchmark = True\n",
    "\n",
    "# WANDB 초기화\n",
    "wandb.login()\n",
    "wandb.init(project='v6_x50_class', name='polt-voting_eff-B7')\n",
    "\n",
    "# 디바이스 설정\n",
    "device = torch.device('cuda' if torch.cuda.is_available() else 'cpu')\n",
    "\n",
    "# 데이터 경로 및 설정\n",
    "data_path_train = 'data/augmented_v3_x50/'\n",
    "data_path_test = 'data/test/'\n",
    "img_size = 224\n",
    "LR = 2e-5\n",
    "EPOCHS = 50\n",
    "BATCH_SIZE = 16\n",
    "num_workers = 32\n",
    "patience = 5\n",
    "WEIGHT_DECAY = 1e-4\n",
    "DROPOUT_PROB = 0.7\n",
    "\n",
    "# 데이터셋 클래스 정의\n",
    "class ImageDataset(Dataset):\n",
    "    def __init__(self, df, path, transform=None):\n",
    "        self.df = df.values\n",
    "        self.path = path\n",
    "        self.transform = transform\n",
    "\n",
    "    def __len__(self):\n",
    "        return len(self.df)\n",
    "\n",
    "    def __getitem__(self, idx):\n",
    "        name, target = self.df[idx]\n",
    "        img = Image.open(os.path.join(self.path, name)).convert(\"RGB\")\n",
    "        img = np.array(img)\n",
    "        if self.transform:\n",
    "            img = self.transform(image=img)['image']\n",
    "        return img, target\n",
    "\n",
    "# EfficientNet-B7 모델 정의\n",
    "class CustomEfficientNetB7(nn.Module):\n",
    "    def __init__(self, num_classes=17, dropout_prob=0.7):\n",
    "        super(CustomEfficientNetB7, self).__init__()\n",
    "        self.model = timm.create_model('tf_efficientnet_b7_ns', pretrained=True)\n",
    "        num_features = self.model.classifier.in_features\n",
    "        self.model.classifier = nn.Sequential(\n",
    "            nn.BatchNorm1d(num_features),\n",
    "            nn.Linear(num_features, 1024),\n",
    "            nn.BatchNorm1d(1024),\n",
    "            nn.ReLU(),\n",
    "            nn.Dropout(dropout_prob),\n",
    "            nn.Linear(1024, num_classes)\n",
    "        )\n",
    "\n",
    "    def forward(self, x):\n",
    "        return self.model(x)\n",
    "\n",
    "# 학습 함수 정의\n",
    "def train_one_epoch(loader, model, optimizer, loss_fn, device, scaler, scheduler=None, clip_value=0.5):\n",
    "    model.train()\n",
    "    train_loss = 0\n",
    "    preds_list = []\n",
    "    targets_list = []\n",
    "\n",
    "    pbar = tqdm(loader, desc=\"Training\")\n",
    "    for image, targets in pbar:\n",
    "        image = image.to(device)\n",
    "        targets = targets.to(device)\n",
    "\n",
    "        optimizer.zero_grad()\n",
    "        with torch.cuda.amp.autocast():\n",
    "            preds = model(image)\n",
    "            loss = loss_fn(preds, targets)\n",
    "        \n",
    "        scaler.scale(loss).backward()\n",
    "        scaler.unscale_(optimizer)\n",
    "        torch.nn.utils.clip_grad_norm_(model.parameters(), clip_value)\n",
    "        scaler.step(optimizer)\n",
    "        scaler.update()\n",
    "\n",
    "        train_loss += loss.item()\n",
    "        preds_list.extend(preds.argmax(dim=1).detach().cpu().numpy())\n",
    "        targets_list.extend(targets.detach().cpu().numpy())\n",
    "\n",
    "        pbar.set_description(f\"Loss: {loss.item():.4f}\")\n",
    "\n",
    "    if scheduler:\n",
    "        scheduler.step()\n",
    "\n",
    "    train_loss /= len(loader)\n",
    "    train_acc = accuracy_score(targets_list, preds_list)\n",
    "    train_f1 = f1_score(targets_list, preds_list, average='macro')\n",
    "\n",
    "    ret = {\n",
    "        \"train_loss\": train_loss,\n",
    "        \"train_acc\": train_acc,\n",
    "        \"train_f1\": train_f1,\n",
    "    }\n",
    "\n",
    "    return ret\n",
    "\n",
    "# 검증 함수 정의\n",
    "def validate(loader, model, loss_fn, device):\n",
    "    model.eval()\n",
    "    val_loss = 0\n",
    "    preds_list = []\n",
    "    targets_list = []\n",
    "\n",
    "    with torch.no_grad():\n",
    "        for image, targets in tqdm(loader, desc=\"Validating\"):\n",
    "            image = image.to(device)\n",
    "            targets = targets.to(device)\n",
    "\n",
    "            preds = model(image)\n",
    "            loss = loss_fn(preds, targets)\n",
    "\n",
    "            val_loss += loss.item()\n",
    "            preds_list.extend(preds.argmax(dim=1).detach().cpu().numpy())\n",
    "            targets_list.extend(targets.detach().cpu().numpy())\n",
    "\n",
    "    val_loss /= len(loader)\n",
    "    val_acc = accuracy_score(targets_list, preds_list)\n",
    "    val_f1 = f1_score(targets_list, preds_list, average='macro')\n",
    "\n",
    "    ret = {\n",
    "        \"val_loss\": val_loss,\n",
    "        \"val_acc\": val_acc,\n",
    "        \"val_f1\": val_f1,\n",
    "    }\n",
    "\n",
    "    return ret\n",
    "\n",
    "# augmentation을 위한 transform 정의\n",
    "trn_transform = A.Compose([\n",
    "    A.Resize(height=img_size, width=img_size),\n",
    "    A.HorizontalFlip(p=0.5),\n",
    "    A.RandomBrightnessContrast(p=0.2),\n",
    "    A.ShiftScaleRotate(shift_limit=0.1, scale_limit=0.1, rotate_limit=15, p=0.5),\n",
    "    A.CoarseDropout(p=0.5),\n",
    "    A.Normalize(mean=[0.485, 0.456, 0.406], std=[0.229, 0.224, 0.225]),\n",
    "    ToTensorV2(),\n",
    "])\n",
    "\n",
    "tst_transform = A.Compose([\n",
    "    A.Resize(height=img_size, width=img_size),\n",
    "    A.Normalize(mean=[0.485, 0.456, 0.406], std=[0.229, 0.224, 0.225]),\n",
    "    ToTensorV2(),\n",
    "])\n",
    "\n",
    "# 데이터 로드\n",
    "train_df = pd.read_csv('data/augment_v3_x50.csv')\n",
    "test_df = pd.read_csv('data/sample_submission.csv')\n",
    "\n",
    "# 클래스별 가중치 계산\n",
    "class_counts = train_df['target'].value_counts().sort_index()\n",
    "total_samples = len(train_df)\n",
    "class_weights = [total_samples / class_counts[i] for i in range(len(class_counts))]\n",
    "class_weights = np.array(class_weights)\n",
    "class_weights = class_weights / class_weights.sum() * len(class_counts)\n",
    "class_weights = torch.tensor(class_weights, dtype=torch.float).to(device)\n",
    "\n",
    "# Stratified K-Fold 설정\n",
    "n_splits = 5\n",
    "skf = StratifiedKFold(n_splits=n_splits, shuffle=True, random_state=SEED)\n",
    "folds = list(skf.split(train_df['ID'], train_df['target']))\n",
    "\n",
    "# 학습 및 검증 루프\n",
    "best_val_loss = float('inf')\n",
    "fold_val_metrics = []\n",
    "best_model_paths = []\n",
    "\n",
    "for fold, (train_idx, val_idx) in enumerate(folds):\n",
    "    print(f\"Fold {fold + 1}\")\n",
    "\n",
    "    trn_dataset = ImageDataset(\n",
    "        train_df.iloc[train_idx],\n",
    "        data_path_train,\n",
    "        transform=trn_transform\n",
    "    )\n",
    "\n",
    "    val_dataset = ImageDataset(\n",
    "        train_df.iloc[val_idx],\n",
    "        data_path_train,\n",
    "        transform=tst_transform\n",
    "    )\n",
    "\n",
    "    trn_loader = DataLoader(\n",
    "        trn_dataset,\n",
    "        batch_size=BATCH_SIZE,\n",
    "        shuffle=True,\n",
    "        num_workers=num_workers,\n",
    "        pin_memory=True,\n",
    "        drop_last=False\n",
    "    )\n",
    "\n",
    "    val_loader = DataLoader(\n",
    "        val_dataset,\n",
    "        batch_size=BATCH_SIZE,\n",
    "        shuffle=False,\n",
    "        num_workers=num_workers,\n",
    "        pin_memory=True\n",
    "    )\n",
    "\n",
    "    # 모델 정의 (EfficientNet-B7으로 변경)\n",
    "    model = CustomEfficientNetB7(num_classes=17, dropout_prob=DROPOUT_PROB).to(device)\n",
    "\n",
    "    loss_fn = nn.CrossEntropyLoss(weight=class_weights)\n",
    "    optimizer = Adam(model.parameters(), lr=LR, weight_decay=WEIGHT_DECAY)\n",
    "    scheduler = CosineAnnealingWarmRestarts(optimizer, T_0=10, T_mult=2, eta_min=1e-6)\n",
    "    scaler = torch.cuda.amp.GradScaler()\n",
    "\n",
    "    fold_best_val_loss = float('inf')\n",
    "    fold_best_model_path = f'best_model_fold_{fold + 1}_class_x50_Eff-B7.pth'\n",
    "    patience_counter = 0\n",
    "\n",
    "    for epoch in range(EPOCHS):\n",
    "        train_metrics = train_one_epoch(trn_loader, model, optimizer, loss_fn, device, scaler, scheduler)\n",
    "        val_metrics = validate(val_loader, model, loss_fn, device)\n",
    "\n",
    "        print(f\"Epoch {epoch + 1}/{EPOCHS}, Train Loss: {train_metrics['train_loss']:.4f}, Train Acc: {train_metrics['train_acc']:.4f}, Train F1: {train_metrics['train_f1']:.4f}\")\n",
    "        print(f\"Epoch {epoch + 1}/{EPOCHS}, Val Loss: {val_metrics['val_loss']:.4f}, Val Acc: {val_metrics['val_acc']:.4f}, Val F1: {val_metrics['val_f1']:.4f}\")\n",
    "\n",
    "        # WANDB 로그 기록\n",
    "        wandb.log({\n",
    "            'epoch': epoch + 1,\n",
    "            'train_loss': train_metrics['train_loss'],\n",
    "            'train_acc': train_metrics['train_acc'],\n",
    "            'train_f1': train_metrics['train_f1'],\n",
    "            'val_loss': val_metrics['val_loss'],\n",
    "            'val_acc': val_metrics['val_acc'],\n",
    "            'val_f1': val_metrics['val_f1']\n",
    "        })\n",
    "\n",
    "        scheduler.step(val_metrics['val_loss'])\n",
    "\n",
    "        if val_metrics['val_loss'] < fold_best_val_loss:\n",
    "            fold_best_val_loss = val_metrics['val_loss']\n",
    "            torch.save(model.state_dict(), fold_best_model_path)\n",
    "            patience_counter = 0\n",
    "        else:\n",
    "            patience_counter += 1\n",
    "\n",
    "        if patience_counter >= patience:\n",
    "            print(f\"Early stopping triggered at epoch {epoch + 1}\")\n",
    "            break\n",
    "\n",
    "    best_model_paths.append(fold_best_model_path)\n",
    "    fold_val_metrics.append((fold_best_val_loss, val_metrics['val_f1']))\n",
    "    print(f\"Fold {fold + 1} Macro F1 Score: {val_metrics['val_f1']:.4f}\")\n",
    "\n",
    "wandb.finish()\n",
    "\n"
   ]
  },
  {
   "cell_type": "code",
   "execution_count": 2,
   "metadata": {},
   "outputs": [
    {
     "name": "stderr",
     "output_type": "stream",
     "text": [
      "/opt/conda/lib/python3.10/site-packages/timm/models/_factory.py:117: UserWarning: Mapping deprecated model name tf_efficientnet_b7_ns to current tf_efficientnet_b7.ns_jft_in1k.\n",
      "  model = create_fn(\n"
     ]
    },
    {
     "name": "stdout",
     "output_type": "stream",
     "text": [
      "Fold 1 Validation Loss: 0.0037, Validation Accuracy: 0.9993, Validation F1 Score: 0.9994\n"
     ]
    },
    {
     "name": "stderr",
     "output_type": "stream",
     "text": [
      "/opt/conda/lib/python3.10/site-packages/timm/models/_factory.py:117: UserWarning: Mapping deprecated model name tf_efficientnet_b7_ns to current tf_efficientnet_b7.ns_jft_in1k.\n",
      "  model = create_fn(\n"
     ]
    },
    {
     "name": "stdout",
     "output_type": "stream",
     "text": [
      "Fold 2 Validation Loss: 0.0037, Validation Accuracy: 0.9989, Validation F1 Score: 0.9988\n"
     ]
    },
    {
     "name": "stderr",
     "output_type": "stream",
     "text": [
      "/opt/conda/lib/python3.10/site-packages/timm/models/_factory.py:117: UserWarning: Mapping deprecated model name tf_efficientnet_b7_ns to current tf_efficientnet_b7.ns_jft_in1k.\n",
      "  model = create_fn(\n"
     ]
    },
    {
     "name": "stdout",
     "output_type": "stream",
     "text": [
      "Fold 3 Validation Loss: 0.0044, Validation Accuracy: 0.9989, Validation F1 Score: 0.9988\n"
     ]
    },
    {
     "name": "stderr",
     "output_type": "stream",
     "text": [
      "/opt/conda/lib/python3.10/site-packages/timm/models/_factory.py:117: UserWarning: Mapping deprecated model name tf_efficientnet_b7_ns to current tf_efficientnet_b7.ns_jft_in1k.\n",
      "  model = create_fn(\n"
     ]
    },
    {
     "name": "stdout",
     "output_type": "stream",
     "text": [
      "Fold 4 Validation Loss: 0.0057, Validation Accuracy: 0.9984, Validation F1 Score: 0.9983\n"
     ]
    },
    {
     "name": "stderr",
     "output_type": "stream",
     "text": [
      "/opt/conda/lib/python3.10/site-packages/timm/models/_factory.py:117: UserWarning: Mapping deprecated model name tf_efficientnet_b7_ns to current tf_efficientnet_b7.ns_jft_in1k.\n",
      "  model = create_fn(\n"
     ]
    },
    {
     "name": "stdout",
     "output_type": "stream",
     "text": [
      "Fold 5 Validation Loss: 0.0055, Validation Accuracy: 0.9989, Validation F1 Score: 0.9989\n",
      "Mean Validation Loss: 0.0046, Mean Validation Accuracy: 0.9989, Mean Validation F1 Score: 0.9988\n",
      "최종 제출 파일이 저장되었습니다.\n"
     ]
    }
   ],
   "source": [
    "# 테스트 데이터 예측 및 결과 저장\n",
    "test_dataset = ImageDataset(test_df, data_path_test, transform=tst_transform)\n",
    "test_loader = DataLoader(test_dataset, batch_size=BATCH_SIZE, shuffle=False, num_workers=num_workers, pin_memory=True)\n",
    "\n",
    "model_paths = [\n",
    "    'best_model_fold_1_class_x50_Eff-B7.pth',\n",
    "    'best_model_fold_2_class_x50_Eff-B7.pth',\n",
    "    'best_model_fold_3_class_x50_Eff-B7.pth',\n",
    "    'best_model_fold_4_class_x50_Eff-B7.pth',\n",
    "    'best_model_fold_5_class_x50_Eff-B7.pth'\n",
    "]\n",
    "\n",
    "fold_preds = []\n",
    "val_f1_scores = []\n",
    "val_acc_scores = []\n",
    "val_losses = []\n",
    "\n",
    "for fold, (train_idx, val_idx) in enumerate(folds):\n",
    "    model = CustomEfficientNetB7(num_classes=17, dropout_prob=0.7).to(device)\n",
    "    model.load_state_dict(torch.load(model_paths[fold]))\n",
    "    model.eval()\n",
    "\n",
    "    val_dataset = ImageDataset(train_df.iloc[val_idx], data_path_train, transform=tst_transform)\n",
    "    val_loader = DataLoader(val_dataset, batch_size=BATCH_SIZE, shuffle=False, num_workers=num_workers, pin_memory=True)\n",
    "\n",
    "    val_preds = []\n",
    "    val_targets = []\n",
    "    val_loss = 0.0\n",
    "    loss_fn = nn.CrossEntropyLoss()\n",
    "\n",
    "    with torch.no_grad():\n",
    "        for images, targets in val_loader:\n",
    "            images, targets = images.to(device), targets.to(device)\n",
    "            output = model(images)\n",
    "            loss = loss_fn(output, targets)\n",
    "            val_loss += loss.item()\n",
    "\n",
    "            val_preds.extend(output.argmax(dim=1).cpu().numpy())\n",
    "            val_targets.extend(targets.cpu().numpy())\n",
    "\n",
    "    val_loss /= len(val_loader)\n",
    "    val_f1 = f1_score(val_targets, val_preds, average='macro')\n",
    "    val_acc = accuracy_score(val_targets, val_preds)\n",
    "\n",
    "    val_f1_scores.append(val_f1)\n",
    "    val_acc_scores.append(val_acc)\n",
    "    val_losses.append(val_loss)\n",
    "\n",
    "    print(f\"Fold {fold + 1} Validation Loss: {val_loss:.4f}, Validation Accuracy: {val_acc:.4f}, Validation F1 Score: {val_f1:.4f}\")\n",
    "\n",
    "    preds = []\n",
    "    with torch.no_grad():\n",
    "        for images, _ in test_loader:\n",
    "            images = images.to(device)\n",
    "            output = model(images)\n",
    "            preds.append(output.softmax(dim=1).cpu().numpy())\n",
    "\n",
    "    preds = np.concatenate(preds, axis=0)\n",
    "    fold_preds.append(preds)\n",
    "\n",
    "# 클래스별 다수결 방식으로 최종 예측 생성\n",
    "final_class_preds = np.zeros((fold_preds[0].shape[0], 17), dtype=float)\n",
    "\n",
    "for fold_pred in fold_preds:\n",
    "    final_class_preds += fold_pred\n",
    "\n",
    "final_class_preds = final_class_preds.argmax(axis=1)\n",
    "\n",
    "# 결과 저장\n",
    "submission = pd.DataFrame({'ID': test_df['ID'], 'target': final_class_preds})\n",
    "submission.to_csv('submit_v6_x50_class_Eff-B7_class_vote.csv', index=False)\n",
    "\n",
    "# 최종 검증 성능 출력\n",
    "print(f\"Mean Validation Loss: {np.mean(val_losses):.4f}, Mean Validation Accuracy: {np.mean(val_acc_scores):.4f}, Mean Validation F1 Score: {np.mean(val_f1_scores):.4f}\")\n",
    "print(\"최종 제출 파일이 저장되었습니다.\")\n"
   ]
  }
 ],
 "metadata": {
  "kernelspec": {
   "display_name": "base",
   "language": "python",
   "name": "python3"
  },
  "language_info": {
   "codemirror_mode": {
    "name": "ipython",
    "version": 3
   },
   "file_extension": ".py",
   "mimetype": "text/x-python",
   "name": "python",
   "nbconvert_exporter": "python",
   "pygments_lexer": "ipython3",
   "version": "3.10.13"
  }
 },
 "nbformat": 4,
 "nbformat_minor": 2
}
