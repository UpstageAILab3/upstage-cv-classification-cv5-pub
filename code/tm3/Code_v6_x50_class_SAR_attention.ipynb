{
 "cells": [
  {
   "cell_type": "code",
   "execution_count": 1,
   "metadata": {},
   "outputs": [
    {
     "name": "stderr",
     "output_type": "stream",
     "text": [
      "Failed to detect the name of this notebook, you can set it manually with the WANDB_NOTEBOOK_NAME environment variable to enable code saving.\n",
      "\u001b[34m\u001b[1mwandb\u001b[0m: Currently logged in as: \u001b[33mkerynh\u001b[0m (\u001b[33mkerynhan\u001b[0m). Use \u001b[1m`wandb login --relogin`\u001b[0m to force relogin\n"
     ]
    },
    {
     "data": {
      "text/html": [
       "wandb version 0.17.6 is available!  To upgrade, please run:\n",
       " $ pip install wandb --upgrade"
      ],
      "text/plain": [
       "<IPython.core.display.HTML object>"
      ]
     },
     "metadata": {},
     "output_type": "display_data"
    },
    {
     "data": {
      "text/html": [
       "Tracking run with wandb version 0.17.5"
      ],
      "text/plain": [
       "<IPython.core.display.HTML object>"
      ]
     },
     "metadata": {},
     "output_type": "display_data"
    },
    {
     "data": {
      "text/html": [
       "Run data is saved locally in <code>/data/ephemeral/home/wandb/run-20240811_085135-1rk9l0b4</code>"
      ],
      "text/plain": [
       "<IPython.core.display.HTML object>"
      ]
     },
     "metadata": {},
     "output_type": "display_data"
    },
    {
     "data": {
      "text/html": [
       "Syncing run <strong><a href='https://wandb.ai/kerynhan/v6_x50_class/runs/1rk9l0b4' target=\"_blank\">fold-voting_SAR_attention</a></strong> to <a href='https://wandb.ai/kerynhan/v6_x50_class' target=\"_blank\">Weights & Biases</a> (<a href='https://wandb.me/run' target=\"_blank\">docs</a>)<br/>"
      ],
      "text/plain": [
       "<IPython.core.display.HTML object>"
      ]
     },
     "metadata": {},
     "output_type": "display_data"
    },
    {
     "data": {
      "text/html": [
       " View project at <a href='https://wandb.ai/kerynhan/v6_x50_class' target=\"_blank\">https://wandb.ai/kerynhan/v6_x50_class</a>"
      ],
      "text/plain": [
       "<IPython.core.display.HTML object>"
      ]
     },
     "metadata": {},
     "output_type": "display_data"
    },
    {
     "data": {
      "text/html": [
       " View run at <a href='https://wandb.ai/kerynhan/v6_x50_class/runs/1rk9l0b4' target=\"_blank\">https://wandb.ai/kerynhan/v6_x50_class/runs/1rk9l0b4</a>"
      ],
      "text/plain": [
       "<IPython.core.display.HTML object>"
      ]
     },
     "metadata": {},
     "output_type": "display_data"
    },
    {
     "name": "stdout",
     "output_type": "stream",
     "text": [
      "Fold 1\n"
     ]
    },
    {
     "name": "stderr",
     "output_type": "stream",
     "text": [
      "Loss: 0.5443: 100%|██████████| 3925/3925 [05:32<00:00, 11.80it/s]\n",
      "Validating: 100%|██████████| 982/982 [00:43<00:00, 22.47it/s]\n"
     ]
    },
    {
     "name": "stdout",
     "output_type": "stream",
     "text": [
      "Epoch 1/30, Train Loss: 0.8319, Train Acc: 0.7203, Train F1: 0.6999\n",
      "Epoch 1/30, Val Loss: 0.2416, Val Acc: 0.9010, Val F1: 0.8862\n"
     ]
    },
    {
     "name": "stderr",
     "output_type": "stream",
     "text": [
      "Loss: 0.0646: 100%|██████████| 3925/3925 [06:14<00:00, 10.49it/s]\n",
      "Validating: 100%|██████████| 982/982 [00:57<00:00, 17.18it/s]\n"
     ]
    },
    {
     "name": "stdout",
     "output_type": "stream",
     "text": [
      "Epoch 2/30, Train Loss: 0.3150, Train Acc: 0.8956, Train F1: 0.8885\n",
      "Epoch 2/30, Val Loss: 0.1457, Val Acc: 0.9508, Val F1: 0.9474\n"
     ]
    },
    {
     "name": "stderr",
     "output_type": "stream",
     "text": [
      "Loss: 0.0344: 100%|██████████| 3925/3925 [07:26<00:00,  8.79it/s]\n",
      "Validating: 100%|██████████| 982/982 [00:57<00:00, 17.16it/s]\n"
     ]
    },
    {
     "name": "stdout",
     "output_type": "stream",
     "text": [
      "Epoch 3/30, Train Loss: 0.2261, Train Acc: 0.9364, Train F1: 0.9328\n",
      "Epoch 3/30, Val Loss: 0.1263, Val Acc: 0.9673, Val F1: 0.9665\n"
     ]
    },
    {
     "name": "stderr",
     "output_type": "stream",
     "text": [
      "Loss: 0.8853: 100%|██████████| 3925/3925 [07:27<00:00,  8.78it/s]\n",
      "Validating: 100%|██████████| 982/982 [00:56<00:00, 17.24it/s]\n"
     ]
    },
    {
     "name": "stdout",
     "output_type": "stream",
     "text": [
      "Epoch 4/30, Train Loss: 0.1860, Train Acc: 0.9547, Train F1: 0.9526\n",
      "Epoch 4/30, Val Loss: 0.0678, Val Acc: 0.9822, Val F1: 0.9814\n"
     ]
    },
    {
     "name": "stderr",
     "output_type": "stream",
     "text": [
      "Loss: 0.2502: 100%|██████████| 3925/3925 [07:23<00:00,  8.85it/s]\n",
      "Validating: 100%|██████████| 982/982 [00:57<00:00, 17.17it/s]\n"
     ]
    },
    {
     "name": "stdout",
     "output_type": "stream",
     "text": [
      "Epoch 5/30, Train Loss: 0.1579, Train Acc: 0.9647, Train F1: 0.9627\n",
      "Epoch 5/30, Val Loss: 0.0595, Val Acc: 0.9875, Val F1: 0.9870\n"
     ]
    },
    {
     "name": "stderr",
     "output_type": "stream",
     "text": [
      "Loss: 0.1441: 100%|██████████| 3925/3925 [07:26<00:00,  8.78it/s]\n",
      "Validating: 100%|██████████| 982/982 [00:57<00:00, 17.18it/s]\n"
     ]
    },
    {
     "name": "stdout",
     "output_type": "stream",
     "text": [
      "Epoch 6/30, Train Loss: 0.1425, Train Acc: 0.9719, Train F1: 0.9701\n",
      "Epoch 6/30, Val Loss: 0.0912, Val Acc: 0.9885, Val F1: 0.9881\n"
     ]
    },
    {
     "name": "stderr",
     "output_type": "stream",
     "text": [
      "Loss: 0.1487: 100%|██████████| 3925/3925 [07:26<00:00,  8.78it/s]\n",
      "Validating: 100%|██████████| 982/982 [00:57<00:00, 17.19it/s]\n"
     ]
    },
    {
     "name": "stdout",
     "output_type": "stream",
     "text": [
      "Epoch 7/30, Train Loss: 0.1351, Train Acc: 0.9755, Train F1: 0.9739\n",
      "Epoch 7/30, Val Loss: 0.3742, Val Acc: 0.9843, Val F1: 0.9831\n"
     ]
    },
    {
     "name": "stderr",
     "output_type": "stream",
     "text": [
      "Loss: 0.0000: 100%|██████████| 3925/3925 [07:26<00:00,  8.79it/s]\n",
      "Validating: 100%|██████████| 982/982 [00:57<00:00, 17.22it/s]\n"
     ]
    },
    {
     "name": "stdout",
     "output_type": "stream",
     "text": [
      "Epoch 8/30, Train Loss: 0.1166, Train Acc: 0.9777, Train F1: 0.9765\n",
      "Epoch 8/30, Val Loss: 0.8436, Val Acc: 0.9835, Val F1: 0.9825\n",
      "Epoch 00008: reducing learning rate of group 0 to 2.0000e-05.\n",
      "Early stopping triggered at epoch 8\n",
      "Fold 1 Macro F1 Score: 0.9825\n",
      "Fold 2\n"
     ]
    },
    {
     "name": "stderr",
     "output_type": "stream",
     "text": [
      "Loss: 0.5517: 100%|██████████| 3925/3925 [07:26<00:00,  8.79it/s]\n",
      "Validating: 100%|██████████| 982/982 [00:56<00:00, 17.25it/s]\n"
     ]
    },
    {
     "name": "stdout",
     "output_type": "stream",
     "text": [
      "Epoch 1/30, Train Loss: 0.8382, Train Acc: 0.7166, Train F1: 0.6996\n",
      "Epoch 1/30, Val Loss: 0.2716, Val Acc: 0.8966, Val F1: 0.8843\n"
     ]
    },
    {
     "name": "stderr",
     "output_type": "stream",
     "text": [
      "Loss: 0.2541: 100%|██████████| 3925/3925 [07:26<00:00,  8.78it/s]\n",
      "Validating: 100%|██████████| 982/982 [00:56<00:00, 17.23it/s]\n"
     ]
    },
    {
     "name": "stdout",
     "output_type": "stream",
     "text": [
      "Epoch 2/30, Train Loss: 0.3257, Train Acc: 0.8930, Train F1: 0.8853\n",
      "Epoch 2/30, Val Loss: 0.2510, Val Acc: 0.9289, Val F1: 0.9255\n"
     ]
    },
    {
     "name": "stderr",
     "output_type": "stream",
     "text": [
      "Loss: 0.0000: 100%|██████████| 3925/3925 [07:27<00:00,  8.78it/s]\n",
      "Validating: 100%|██████████| 982/982 [00:56<00:00, 17.23it/s]\n"
     ]
    },
    {
     "name": "stdout",
     "output_type": "stream",
     "text": [
      "Epoch 3/30, Train Loss: 0.2328, Train Acc: 0.9357, Train F1: 0.9320\n",
      "Epoch 3/30, Val Loss: 0.0960, Val Acc: 0.9698, Val F1: 0.9677\n"
     ]
    },
    {
     "name": "stderr",
     "output_type": "stream",
     "text": [
      "Loss: 0.4887: 100%|██████████| 3925/3925 [07:26<00:00,  8.79it/s]\n",
      "Validating: 100%|██████████| 982/982 [00:56<00:00, 17.27it/s]\n"
     ]
    },
    {
     "name": "stdout",
     "output_type": "stream",
     "text": [
      "Epoch 4/30, Train Loss: 0.1879, Train Acc: 0.9546, Train F1: 0.9521\n",
      "Epoch 4/30, Val Loss: 0.0936, Val Acc: 0.9794, Val F1: 0.9787\n"
     ]
    },
    {
     "name": "stderr",
     "output_type": "stream",
     "text": [
      "Loss: 0.1279: 100%|██████████| 3925/3925 [07:26<00:00,  8.80it/s]\n",
      "Validating: 100%|██████████| 982/982 [00:56<00:00, 17.24it/s]\n"
     ]
    },
    {
     "name": "stdout",
     "output_type": "stream",
     "text": [
      "Epoch 5/30, Train Loss: 0.1670, Train Acc: 0.9645, Train F1: 0.9624\n",
      "Epoch 5/30, Val Loss: 0.0653, Val Acc: 0.9851, Val F1: 0.9840\n"
     ]
    },
    {
     "name": "stderr",
     "output_type": "stream",
     "text": [
      "Loss: 0.1897: 100%|██████████| 3925/3925 [07:25<00:00,  8.80it/s]\n",
      "Validating: 100%|██████████| 982/982 [00:56<00:00, 17.27it/s]\n"
     ]
    },
    {
     "name": "stdout",
     "output_type": "stream",
     "text": [
      "Epoch 6/30, Train Loss: 0.1429, Train Acc: 0.9703, Train F1: 0.9688\n",
      "Epoch 6/30, Val Loss: 0.0533, Val Acc: 0.9892, Val F1: 0.9886\n"
     ]
    },
    {
     "name": "stderr",
     "output_type": "stream",
     "text": [
      "Loss: 0.0133: 100%|██████████| 3925/3925 [07:23<00:00,  8.85it/s]\n",
      "Validating: 100%|██████████| 982/982 [00:54<00:00, 17.86it/s]\n"
     ]
    },
    {
     "name": "stdout",
     "output_type": "stream",
     "text": [
      "Epoch 7/30, Train Loss: 0.1398, Train Acc: 0.9753, Train F1: 0.9738\n",
      "Epoch 7/30, Val Loss: 0.0533, Val Acc: 0.9902, Val F1: 0.9898\n"
     ]
    },
    {
     "name": "stderr",
     "output_type": "stream",
     "text": [
      "Loss: 0.0000: 100%|██████████| 3925/3925 [05:24<00:00, 12.08it/s]\n",
      "Validating: 100%|██████████| 982/982 [00:40<00:00, 24.12it/s]\n"
     ]
    },
    {
     "name": "stdout",
     "output_type": "stream",
     "text": [
      "Epoch 8/30, Train Loss: 0.1227, Train Acc: 0.9785, Train F1: 0.9772\n",
      "Epoch 8/30, Val Loss: 0.0503, Val Acc: 0.9907, Val F1: 0.9894\n"
     ]
    },
    {
     "name": "stderr",
     "output_type": "stream",
     "text": [
      "Loss: 0.0000: 100%|██████████| 3925/3925 [05:24<00:00, 12.11it/s]\n",
      "Validating: 100%|██████████| 982/982 [00:40<00:00, 24.55it/s]\n"
     ]
    },
    {
     "name": "stdout",
     "output_type": "stream",
     "text": [
      "Epoch 9/30, Train Loss: 0.1117, Train Acc: 0.9798, Train F1: 0.9785\n",
      "Epoch 9/30, Val Loss: 0.0459, Val Acc: 0.9924, Val F1: 0.9914\n"
     ]
    },
    {
     "name": "stderr",
     "output_type": "stream",
     "text": [
      "Loss: 0.0007: 100%|██████████| 3925/3925 [05:24<00:00, 12.10it/s]\n",
      "Validating: 100%|██████████| 982/982 [00:40<00:00, 24.27it/s]\n"
     ]
    },
    {
     "name": "stdout",
     "output_type": "stream",
     "text": [
      "Epoch 10/30, Train Loss: 0.1058, Train Acc: 0.9816, Train F1: 0.9806\n",
      "Epoch 10/30, Val Loss: 0.0479, Val Acc: 0.9924, Val F1: 0.9921\n"
     ]
    },
    {
     "name": "stderr",
     "output_type": "stream",
     "text": [
      "Loss: 0.0000: 100%|██████████| 3925/3925 [05:24<00:00, 12.08it/s]\n",
      "Validating: 100%|██████████| 982/982 [00:40<00:00, 24.13it/s]\n"
     ]
    },
    {
     "name": "stdout",
     "output_type": "stream",
     "text": [
      "Epoch 11/30, Train Loss: 0.1028, Train Acc: 0.9833, Train F1: 0.9822\n",
      "Epoch 11/30, Val Loss: 0.0401, Val Acc: 0.9924, Val F1: 0.9918\n"
     ]
    },
    {
     "name": "stderr",
     "output_type": "stream",
     "text": [
      "Loss: 0.0000: 100%|██████████| 3925/3925 [05:24<00:00, 12.10it/s]\n",
      "Validating: 100%|██████████| 982/982 [00:40<00:00, 24.30it/s]\n"
     ]
    },
    {
     "name": "stdout",
     "output_type": "stream",
     "text": [
      "Epoch 12/30, Train Loss: 0.0985, Train Acc: 0.9843, Train F1: 0.9833\n",
      "Epoch 12/30, Val Loss: 0.0460, Val Acc: 0.9934, Val F1: 0.9924\n"
     ]
    },
    {
     "name": "stderr",
     "output_type": "stream",
     "text": [
      "Loss: 0.0003: 100%|██████████| 3925/3925 [05:24<00:00, 12.11it/s]\n",
      "Validating: 100%|██████████| 982/982 [00:40<00:00, 24.42it/s]\n"
     ]
    },
    {
     "name": "stdout",
     "output_type": "stream",
     "text": [
      "Epoch 13/30, Train Loss: 0.0914, Train Acc: 0.9856, Train F1: 0.9847\n",
      "Epoch 13/30, Val Loss: 0.0302, Val Acc: 0.9948, Val F1: 0.9943\n"
     ]
    },
    {
     "name": "stderr",
     "output_type": "stream",
     "text": [
      "Loss: 0.5202: 100%|██████████| 3925/3925 [05:25<00:00, 12.07it/s]\n",
      "Validating: 100%|██████████| 982/982 [00:44<00:00, 21.90it/s]\n"
     ]
    },
    {
     "name": "stdout",
     "output_type": "stream",
     "text": [
      "Epoch 14/30, Train Loss: 0.0934, Train Acc: 0.9855, Train F1: 0.9847\n",
      "Epoch 14/30, Val Loss: 0.0349, Val Acc: 0.9949, Val F1: 0.9945\n"
     ]
    },
    {
     "name": "stderr",
     "output_type": "stream",
     "text": [
      "Loss: 0.0000: 100%|██████████| 3925/3925 [07:17<00:00,  8.96it/s]\n",
      "Validating: 100%|██████████| 982/982 [00:57<00:00, 17.22it/s]\n"
     ]
    },
    {
     "name": "stdout",
     "output_type": "stream",
     "text": [
      "Epoch 15/30, Train Loss: 0.0785, Train Acc: 0.9865, Train F1: 0.9857\n",
      "Epoch 15/30, Val Loss: 0.0274, Val Acc: 0.9954, Val F1: 0.9950\n"
     ]
    },
    {
     "name": "stderr",
     "output_type": "stream",
     "text": [
      "Loss: 0.0000: 100%|██████████| 3925/3925 [07:17<00:00,  8.96it/s]\n",
      "Validating: 100%|██████████| 982/982 [00:46<00:00, 20.91it/s]\n"
     ]
    },
    {
     "name": "stdout",
     "output_type": "stream",
     "text": [
      "Epoch 16/30, Train Loss: 0.0874, Train Acc: 0.9866, Train F1: 0.9860\n",
      "Epoch 16/30, Val Loss: 0.0269, Val Acc: 0.9958, Val F1: 0.9955\n"
     ]
    },
    {
     "name": "stderr",
     "output_type": "stream",
     "text": [
      "Loss: 0.0000: 100%|██████████| 3925/3925 [05:25<00:00, 12.07it/s]\n",
      "Validating: 100%|██████████| 982/982 [00:39<00:00, 24.57it/s]\n"
     ]
    },
    {
     "name": "stdout",
     "output_type": "stream",
     "text": [
      "Epoch 17/30, Train Loss: 0.0830, Train Acc: 0.9877, Train F1: 0.9869\n",
      "Epoch 17/30, Val Loss: 0.0412, Val Acc: 0.9941, Val F1: 0.9936\n"
     ]
    },
    {
     "name": "stderr",
     "output_type": "stream",
     "text": [
      "Loss: 0.0000: 100%|██████████| 3925/3925 [05:24<00:00, 12.10it/s]\n",
      "Validating: 100%|██████████| 982/982 [00:40<00:00, 24.20it/s]\n"
     ]
    },
    {
     "name": "stdout",
     "output_type": "stream",
     "text": [
      "Epoch 18/30, Train Loss: 0.0743, Train Acc: 0.9884, Train F1: 0.9877\n",
      "Epoch 18/30, Val Loss: 0.0273, Val Acc: 0.9956, Val F1: 0.9953\n"
     ]
    },
    {
     "name": "stderr",
     "output_type": "stream",
     "text": [
      "Loss: 0.0000: 100%|██████████| 3925/3925 [05:24<00:00, 12.11it/s]\n",
      "Validating: 100%|██████████| 982/982 [00:40<00:00, 24.22it/s]\n"
     ]
    },
    {
     "name": "stdout",
     "output_type": "stream",
     "text": [
      "Epoch 19/30, Train Loss: 0.0698, Train Acc: 0.9888, Train F1: 0.9881\n",
      "Epoch 19/30, Val Loss: 0.0269, Val Acc: 0.9959, Val F1: 0.9957\n",
      "Epoch 00019: reducing learning rate of group 0 to 2.0000e-05.\n",
      "Early stopping triggered at epoch 19\n",
      "Fold 2 Macro F1 Score: 0.9957\n",
      "Fold 3\n"
     ]
    },
    {
     "name": "stderr",
     "output_type": "stream",
     "text": [
      "Loss: 0.2338: 100%|██████████| 3925/3925 [05:26<00:00, 12.03it/s]\n",
      "Validating: 100%|██████████| 982/982 [00:40<00:00, 24.46it/s]\n"
     ]
    },
    {
     "name": "stdout",
     "output_type": "stream",
     "text": [
      "Epoch 1/30, Train Loss: 0.8356, Train Acc: 0.7142, Train F1: 0.6931\n",
      "Epoch 1/30, Val Loss: 0.2617, Val Acc: 0.8975, Val F1: 0.8860\n"
     ]
    },
    {
     "name": "stderr",
     "output_type": "stream",
     "text": [
      "Loss: 0.2777: 100%|██████████| 3925/3925 [05:24<00:00, 12.08it/s]\n",
      "Validating: 100%|██████████| 982/982 [00:39<00:00, 24.62it/s]\n"
     ]
    },
    {
     "name": "stdout",
     "output_type": "stream",
     "text": [
      "Epoch 2/30, Train Loss: 0.3209, Train Acc: 0.8941, Train F1: 0.8862\n",
      "Epoch 2/30, Val Loss: 0.1272, Val Acc: 0.9557, Val F1: 0.9534\n"
     ]
    },
    {
     "name": "stderr",
     "output_type": "stream",
     "text": [
      "Loss: 0.3112: 100%|██████████| 3925/3925 [05:24<00:00, 12.09it/s]\n",
      "Validating: 100%|██████████| 982/982 [00:39<00:00, 24.58it/s]\n"
     ]
    },
    {
     "name": "stdout",
     "output_type": "stream",
     "text": [
      "Epoch 3/30, Train Loss: 0.2259, Train Acc: 0.9365, Train F1: 0.9332\n",
      "Epoch 3/30, Val Loss: 1.0867, Val Acc: 0.9634, Val F1: 0.9624\n"
     ]
    },
    {
     "name": "stderr",
     "output_type": "stream",
     "text": [
      "Loss: 0.0034: 100%|██████████| 3925/3925 [05:24<00:00, 12.11it/s]\n",
      "Validating: 100%|██████████| 982/982 [00:40<00:00, 24.40it/s]\n"
     ]
    },
    {
     "name": "stdout",
     "output_type": "stream",
     "text": [
      "Epoch 4/30, Train Loss: 0.1894, Train Acc: 0.9556, Train F1: 0.9534\n",
      "Epoch 4/30, Val Loss: 0.0886, Val Acc: 0.9812, Val F1: 0.9796\n"
     ]
    },
    {
     "name": "stderr",
     "output_type": "stream",
     "text": [
      "Loss: 0.0000: 100%|██████████| 3925/3925 [05:25<00:00, 12.07it/s]\n",
      "Validating: 100%|██████████| 982/982 [00:40<00:00, 24.35it/s]\n"
     ]
    },
    {
     "name": "stdout",
     "output_type": "stream",
     "text": [
      "Epoch 5/30, Train Loss: 0.1634, Train Acc: 0.9666, Train F1: 0.9648\n",
      "Epoch 5/30, Val Loss: 0.0475, Val Acc: 0.9909, Val F1: 0.9904\n"
     ]
    },
    {
     "name": "stderr",
     "output_type": "stream",
     "text": [
      "Loss: 0.0003: 100%|██████████| 3925/3925 [05:24<00:00, 12.08it/s]\n",
      "Validating: 100%|██████████| 982/982 [00:39<00:00, 24.68it/s]\n"
     ]
    },
    {
     "name": "stdout",
     "output_type": "stream",
     "text": [
      "Epoch 6/30, Train Loss: 0.1452, Train Acc: 0.9710, Train F1: 0.9694\n",
      "Epoch 6/30, Val Loss: 0.1466, Val Acc: 0.9869, Val F1: 0.9859\n"
     ]
    },
    {
     "name": "stderr",
     "output_type": "stream",
     "text": [
      "Loss: 0.2306: 100%|██████████| 3925/3925 [05:26<00:00, 12.03it/s]\n",
      "Validating: 100%|██████████| 982/982 [00:40<00:00, 24.19it/s]\n"
     ]
    },
    {
     "name": "stdout",
     "output_type": "stream",
     "text": [
      "Epoch 7/30, Train Loss: 0.1236, Train Acc: 0.9768, Train F1: 0.9755\n",
      "Epoch 7/30, Val Loss: 0.1091, Val Acc: 0.9903, Val F1: 0.9900\n"
     ]
    },
    {
     "name": "stderr",
     "output_type": "stream",
     "text": [
      "Loss: 0.0000: 100%|██████████| 3925/3925 [05:25<00:00, 12.08it/s]\n",
      "Validating: 100%|██████████| 982/982 [00:39<00:00, 24.67it/s]\n"
     ]
    },
    {
     "name": "stdout",
     "output_type": "stream",
     "text": [
      "Epoch 8/30, Train Loss: 0.1178, Train Acc: 0.9775, Train F1: 0.9764\n",
      "Epoch 8/30, Val Loss: 0.0501, Val Acc: 0.9913, Val F1: 0.9908\n",
      "Epoch 00008: reducing learning rate of group 0 to 2.0000e-05.\n",
      "Early stopping triggered at epoch 8\n",
      "Fold 3 Macro F1 Score: 0.9908\n",
      "Fold 4\n"
     ]
    },
    {
     "name": "stderr",
     "output_type": "stream",
     "text": [
      "Loss: 0.4086: 100%|██████████| 3925/3925 [05:24<00:00, 12.08it/s]\n",
      "Validating: 100%|██████████| 982/982 [00:40<00:00, 24.32it/s]\n"
     ]
    },
    {
     "name": "stdout",
     "output_type": "stream",
     "text": [
      "Epoch 1/30, Train Loss: 0.8446, Train Acc: 0.7122, Train F1: 0.6955\n",
      "Epoch 1/30, Val Loss: 0.2825, Val Acc: 0.8945, Val F1: 0.8856\n"
     ]
    },
    {
     "name": "stderr",
     "output_type": "stream",
     "text": [
      "Loss: 0.1195: 100%|██████████| 3925/3925 [05:25<00:00, 12.05it/s]\n",
      "Validating: 100%|██████████| 982/982 [00:39<00:00, 24.55it/s]\n"
     ]
    },
    {
     "name": "stdout",
     "output_type": "stream",
     "text": [
      "Epoch 2/30, Train Loss: 0.3230, Train Acc: 0.8938, Train F1: 0.8865\n",
      "Epoch 2/30, Val Loss: 0.1630, Val Acc: 0.9441, Val F1: 0.9401\n"
     ]
    },
    {
     "name": "stderr",
     "output_type": "stream",
     "text": [
      "Loss: 0.0600: 100%|██████████| 3925/3925 [05:24<00:00, 12.10it/s]\n",
      "Validating: 100%|██████████| 982/982 [00:39<00:00, 24.59it/s]\n"
     ]
    },
    {
     "name": "stdout",
     "output_type": "stream",
     "text": [
      "Epoch 3/30, Train Loss: 0.2253, Train Acc: 0.9356, Train F1: 0.9317\n",
      "Epoch 3/30, Val Loss: 0.1123, Val Acc: 0.9694, Val F1: 0.9673\n"
     ]
    },
    {
     "name": "stderr",
     "output_type": "stream",
     "text": [
      "Loss: 0.0851: 100%|██████████| 3925/3925 [05:24<00:00, 12.09it/s]\n",
      "Validating: 100%|██████████| 982/982 [00:39<00:00, 24.63it/s]\n"
     ]
    },
    {
     "name": "stdout",
     "output_type": "stream",
     "text": [
      "Epoch 4/30, Train Loss: 0.1810, Train Acc: 0.9558, Train F1: 0.9531\n",
      "Epoch 4/30, Val Loss: 0.0719, Val Acc: 0.9824, Val F1: 0.9817\n"
     ]
    },
    {
     "name": "stderr",
     "output_type": "stream",
     "text": [
      "Loss: 0.0006: 100%|██████████| 3925/3925 [05:25<00:00, 12.06it/s]\n",
      "Validating: 100%|██████████| 982/982 [00:40<00:00, 24.30it/s]\n"
     ]
    },
    {
     "name": "stdout",
     "output_type": "stream",
     "text": [
      "Epoch 5/30, Train Loss: 0.1614, Train Acc: 0.9665, Train F1: 0.9646\n",
      "Epoch 5/30, Val Loss: 0.0651, Val Acc: 0.9855, Val F1: 0.9838\n"
     ]
    },
    {
     "name": "stderr",
     "output_type": "stream",
     "text": [
      "Loss: 0.0010: 100%|██████████| 3925/3925 [05:24<00:00, 12.11it/s]\n",
      "Validating: 100%|██████████| 982/982 [00:40<00:00, 24.29it/s]\n"
     ]
    },
    {
     "name": "stdout",
     "output_type": "stream",
     "text": [
      "Epoch 6/30, Train Loss: 0.1452, Train Acc: 0.9717, Train F1: 0.9702\n",
      "Epoch 6/30, Val Loss: 0.0659, Val Acc: 0.9886, Val F1: 0.9871\n"
     ]
    },
    {
     "name": "stderr",
     "output_type": "stream",
     "text": [
      "Loss: 0.3248: 100%|██████████| 3925/3925 [05:24<00:00, 12.10it/s]\n",
      "Validating: 100%|██████████| 982/982 [00:38<00:00, 25.81it/s]\n"
     ]
    },
    {
     "name": "stdout",
     "output_type": "stream",
     "text": [
      "Epoch 7/30, Train Loss: 0.1313, Train Acc: 0.9763, Train F1: 0.9750\n",
      "Epoch 7/30, Val Loss: 0.0758, Val Acc: 0.9880, Val F1: 0.9868\n"
     ]
    },
    {
     "name": "stderr",
     "output_type": "stream",
     "text": [
      "Loss: 0.0001: 100%|██████████| 3925/3925 [03:42<00:00, 17.67it/s]\n",
      "Validating: 100%|██████████| 982/982 [00:27<00:00, 35.97it/s]\n"
     ]
    },
    {
     "name": "stdout",
     "output_type": "stream",
     "text": [
      "Epoch 8/30, Train Loss: 0.1227, Train Acc: 0.9782, Train F1: 0.9768\n",
      "Epoch 8/30, Val Loss: 0.0337, Val Acc: 0.9930, Val F1: 0.9927\n"
     ]
    },
    {
     "name": "stderr",
     "output_type": "stream",
     "text": [
      "Loss: 0.2622: 100%|██████████| 3925/3925 [04:23<00:00, 14.91it/s]\n",
      "Validating: 100%|██████████| 982/982 [00:39<00:00, 24.88it/s]\n"
     ]
    },
    {
     "name": "stdout",
     "output_type": "stream",
     "text": [
      "Epoch 9/30, Train Loss: 0.1111, Train Acc: 0.9811, Train F1: 0.9801\n",
      "Epoch 9/30, Val Loss: 0.0353, Val Acc: 0.9934, Val F1: 0.9930\n"
     ]
    },
    {
     "name": "stderr",
     "output_type": "stream",
     "text": [
      "Loss: 0.1784: 100%|██████████| 3925/3925 [03:58<00:00, 16.48it/s]\n",
      "Validating: 100%|██████████| 982/982 [00:27<00:00, 36.06it/s]\n"
     ]
    },
    {
     "name": "stdout",
     "output_type": "stream",
     "text": [
      "Epoch 10/30, Train Loss: 0.1042, Train Acc: 0.9820, Train F1: 0.9809\n",
      "Epoch 10/30, Val Loss: 0.0314, Val Acc: 0.9952, Val F1: 0.9951\n"
     ]
    },
    {
     "name": "stderr",
     "output_type": "stream",
     "text": [
      "Loss: 0.0000: 100%|██████████| 3925/3925 [03:41<00:00, 17.69it/s]\n",
      "Validating: 100%|██████████| 982/982 [00:27<00:00, 35.96it/s]\n"
     ]
    },
    {
     "name": "stdout",
     "output_type": "stream",
     "text": [
      "Epoch 11/30, Train Loss: 0.1005, Train Acc: 0.9838, Train F1: 0.9829\n",
      "Epoch 11/30, Val Loss: 0.0339, Val Acc: 0.9929, Val F1: 0.9929\n"
     ]
    },
    {
     "name": "stderr",
     "output_type": "stream",
     "text": [
      "Loss: 0.0000: 100%|██████████| 3925/3925 [03:39<00:00, 17.92it/s]\n",
      "Validating: 100%|██████████| 982/982 [00:27<00:00, 35.88it/s]\n"
     ]
    },
    {
     "name": "stdout",
     "output_type": "stream",
     "text": [
      "Epoch 12/30, Train Loss: 0.1010, Train Acc: 0.9842, Train F1: 0.9834\n",
      "Epoch 12/30, Val Loss: 0.0328, Val Acc: 0.9950, Val F1: 0.9947\n"
     ]
    },
    {
     "name": "stderr",
     "output_type": "stream",
     "text": [
      "Loss: 0.0901: 100%|██████████| 3925/3925 [03:38<00:00, 17.93it/s]\n",
      "Validating: 100%|██████████| 982/982 [00:27<00:00, 35.90it/s]\n"
     ]
    },
    {
     "name": "stdout",
     "output_type": "stream",
     "text": [
      "Epoch 13/30, Train Loss: 0.0882, Train Acc: 0.9854, Train F1: 0.9846\n",
      "Epoch 13/30, Val Loss: 0.0358, Val Acc: 0.9944, Val F1: 0.9938\n",
      "Epoch 00013: reducing learning rate of group 0 to 2.0000e-05.\n",
      "Early stopping triggered at epoch 13\n",
      "Fold 4 Macro F1 Score: 0.9938\n",
      "Fold 5\n"
     ]
    },
    {
     "name": "stderr",
     "output_type": "stream",
     "text": [
      "Loss: 0.1913: 100%|██████████| 3925/3925 [03:42<00:00, 17.64it/s]\n",
      "Validating: 100%|██████████| 982/982 [00:27<00:00, 36.04it/s]\n"
     ]
    },
    {
     "name": "stdout",
     "output_type": "stream",
     "text": [
      "Epoch 1/30, Train Loss: 0.8576, Train Acc: 0.7110, Train F1: 0.6938\n",
      "Epoch 1/30, Val Loss: 0.2984, Val Acc: 0.9050, Val F1: 0.8953\n"
     ]
    },
    {
     "name": "stderr",
     "output_type": "stream",
     "text": [
      "Loss: 0.3762: 100%|██████████| 3925/3925 [03:39<00:00, 17.90it/s]\n",
      "Validating: 100%|██████████| 982/982 [00:27<00:00, 36.02it/s]\n"
     ]
    },
    {
     "name": "stdout",
     "output_type": "stream",
     "text": [
      "Epoch 2/30, Train Loss: 0.3241, Train Acc: 0.8938, Train F1: 0.8861\n",
      "Epoch 2/30, Val Loss: 0.1778, Val Acc: 0.9398, Val F1: 0.9372\n"
     ]
    },
    {
     "name": "stderr",
     "output_type": "stream",
     "text": [
      "Loss: 0.6632: 100%|██████████| 3925/3925 [03:39<00:00, 17.92it/s]\n",
      "Validating: 100%|██████████| 982/982 [00:27<00:00, 35.99it/s]\n"
     ]
    },
    {
     "name": "stdout",
     "output_type": "stream",
     "text": [
      "Epoch 3/30, Train Loss: 0.2302, Train Acc: 0.9362, Train F1: 0.9326\n",
      "Epoch 3/30, Val Loss: 0.0791, Val Acc: 0.9746, Val F1: 0.9729\n"
     ]
    },
    {
     "name": "stderr",
     "output_type": "stream",
     "text": [
      "Loss: 0.0000: 100%|██████████| 3925/3925 [03:42<00:00, 17.62it/s]\n",
      "Validating: 100%|██████████| 982/982 [00:27<00:00, 35.86it/s]\n"
     ]
    },
    {
     "name": "stdout",
     "output_type": "stream",
     "text": [
      "Epoch 4/30, Train Loss: 0.1843, Train Acc: 0.9551, Train F1: 0.9528\n",
      "Epoch 4/30, Val Loss: 0.0633, Val Acc: 0.9836, Val F1: 0.9829\n"
     ]
    },
    {
     "name": "stderr",
     "output_type": "stream",
     "text": [
      "Loss: 0.3455: 100%|██████████| 3925/3925 [03:39<00:00, 17.91it/s]\n",
      "Validating: 100%|██████████| 982/982 [00:27<00:00, 35.88it/s]\n"
     ]
    },
    {
     "name": "stdout",
     "output_type": "stream",
     "text": [
      "Epoch 5/30, Train Loss: 0.1620, Train Acc: 0.9656, Train F1: 0.9637\n",
      "Epoch 5/30, Val Loss: 0.0570, Val Acc: 0.9873, Val F1: 0.9872\n"
     ]
    },
    {
     "name": "stderr",
     "output_type": "stream",
     "text": [
      "Loss: 0.0000: 100%|██████████| 3925/3925 [03:39<00:00, 17.91it/s]\n",
      "Validating: 100%|██████████| 982/982 [00:27<00:00, 35.80it/s]\n"
     ]
    },
    {
     "name": "stdout",
     "output_type": "stream",
     "text": [
      "Epoch 6/30, Train Loss: 0.1459, Train Acc: 0.9712, Train F1: 0.9696\n",
      "Epoch 6/30, Val Loss: 0.0490, Val Acc: 0.9879, Val F1: 0.9874\n"
     ]
    },
    {
     "name": "stderr",
     "output_type": "stream",
     "text": [
      "Loss: 0.0001: 100%|██████████| 3925/3925 [03:42<00:00, 17.64it/s]\n",
      "Validating: 100%|██████████| 982/982 [00:27<00:00, 35.93it/s]\n"
     ]
    },
    {
     "name": "stdout",
     "output_type": "stream",
     "text": [
      "Epoch 7/30, Train Loss: 0.1348, Train Acc: 0.9746, Train F1: 0.9730\n",
      "Epoch 7/30, Val Loss: 0.0423, Val Acc: 0.9914, Val F1: 0.9911\n"
     ]
    },
    {
     "name": "stderr",
     "output_type": "stream",
     "text": [
      "Loss: 0.0000: 100%|██████████| 3925/3925 [03:39<00:00, 17.91it/s]\n",
      "Validating: 100%|██████████| 982/982 [00:27<00:00, 35.93it/s]\n"
     ]
    },
    {
     "name": "stdout",
     "output_type": "stream",
     "text": [
      "Epoch 8/30, Train Loss: 0.1247, Train Acc: 0.9777, Train F1: 0.9760\n",
      "Epoch 8/30, Val Loss: 0.0360, Val Acc: 0.9927, Val F1: 0.9923\n"
     ]
    },
    {
     "name": "stderr",
     "output_type": "stream",
     "text": [
      "Loss: 0.0366: 100%|██████████| 3925/3925 [03:39<00:00, 17.88it/s]\n",
      "Validating: 100%|██████████| 982/982 [00:27<00:00, 35.98it/s]\n"
     ]
    },
    {
     "name": "stdout",
     "output_type": "stream",
     "text": [
      "Epoch 9/30, Train Loss: 0.1199, Train Acc: 0.9800, Train F1: 0.9788\n",
      "Epoch 9/30, Val Loss: 0.0455, Val Acc: 0.9908, Val F1: 0.9905\n"
     ]
    },
    {
     "name": "stderr",
     "output_type": "stream",
     "text": [
      "Loss: 0.0000: 100%|██████████| 3925/3925 [03:37<00:00, 18.07it/s]\n",
      "Validating: 100%|██████████| 982/982 [00:27<00:00, 35.93it/s]\n"
     ]
    },
    {
     "name": "stdout",
     "output_type": "stream",
     "text": [
      "Epoch 10/30, Train Loss: 0.1075, Train Acc: 0.9815, Train F1: 0.9804\n",
      "Epoch 10/30, Val Loss: 0.0308, Val Acc: 0.9933, Val F1: 0.9932\n"
     ]
    },
    {
     "name": "stderr",
     "output_type": "stream",
     "text": [
      "Loss: 0.2815: 100%|██████████| 3925/3925 [03:39<00:00, 17.88it/s]\n",
      "Validating: 100%|██████████| 982/982 [00:27<00:00, 35.87it/s]\n"
     ]
    },
    {
     "name": "stdout",
     "output_type": "stream",
     "text": [
      "Epoch 11/30, Train Loss: 0.1022, Train Acc: 0.9834, Train F1: 0.9824\n",
      "Epoch 11/30, Val Loss: 0.0566, Val Acc: 0.9915, Val F1: 0.9912\n"
     ]
    },
    {
     "name": "stderr",
     "output_type": "stream",
     "text": [
      "Loss: 0.0001: 100%|██████████| 3925/3925 [03:39<00:00, 17.89it/s]\n",
      "Validating: 100%|██████████| 982/982 [00:27<00:00, 36.01it/s]\n"
     ]
    },
    {
     "name": "stdout",
     "output_type": "stream",
     "text": [
      "Epoch 12/30, Train Loss: 0.1003, Train Acc: 0.9838, Train F1: 0.9828\n",
      "Epoch 12/30, Val Loss: 0.0298, Val Acc: 0.9941, Val F1: 0.9940\n"
     ]
    },
    {
     "name": "stderr",
     "output_type": "stream",
     "text": [
      "Loss: 0.0000: 100%|██████████| 3925/3925 [03:42<00:00, 17.68it/s]\n",
      "Validating: 100%|██████████| 982/982 [00:27<00:00, 36.10it/s]\n"
     ]
    },
    {
     "name": "stdout",
     "output_type": "stream",
     "text": [
      "Epoch 13/30, Train Loss: 0.0860, Train Acc: 0.9858, Train F1: 0.9850\n",
      "Epoch 13/30, Val Loss: 0.0332, Val Acc: 0.9946, Val F1: 0.9946\n"
     ]
    },
    {
     "name": "stderr",
     "output_type": "stream",
     "text": [
      "Loss: 0.0026: 100%|██████████| 3925/3925 [03:39<00:00, 17.87it/s]\n",
      "Validating: 100%|██████████| 982/982 [00:27<00:00, 36.04it/s]\n"
     ]
    },
    {
     "name": "stdout",
     "output_type": "stream",
     "text": [
      "Epoch 14/30, Train Loss: 0.0878, Train Acc: 0.9859, Train F1: 0.9849\n",
      "Epoch 14/30, Val Loss: 0.0218, Val Acc: 0.9953, Val F1: 0.9952\n"
     ]
    },
    {
     "name": "stderr",
     "output_type": "stream",
     "text": [
      "Loss: 0.0000: 100%|██████████| 3925/3925 [03:39<00:00, 17.89it/s]\n",
      "Validating: 100%|██████████| 982/982 [00:27<00:00, 35.99it/s]\n"
     ]
    },
    {
     "name": "stdout",
     "output_type": "stream",
     "text": [
      "Epoch 15/30, Train Loss: 0.0847, Train Acc: 0.9865, Train F1: 0.9857\n",
      "Epoch 15/30, Val Loss: 0.0347, Val Acc: 0.9955, Val F1: 0.9956\n"
     ]
    },
    {
     "name": "stderr",
     "output_type": "stream",
     "text": [
      "Loss: 1.1676: 100%|██████████| 3925/3925 [03:42<00:00, 17.67it/s]\n",
      "Validating: 100%|██████████| 982/982 [00:27<00:00, 35.94it/s]\n"
     ]
    },
    {
     "name": "stdout",
     "output_type": "stream",
     "text": [
      "Epoch 16/30, Train Loss: 0.0819, Train Acc: 0.9872, Train F1: 0.9866\n",
      "Epoch 16/30, Val Loss: 0.0176, Val Acc: 0.9964, Val F1: 0.9962\n"
     ]
    },
    {
     "name": "stderr",
     "output_type": "stream",
     "text": [
      "Loss: 0.0000: 100%|██████████| 3925/3925 [03:39<00:00, 17.91it/s]\n",
      "Validating: 100%|██████████| 982/982 [00:27<00:00, 35.97it/s]\n"
     ]
    },
    {
     "name": "stdout",
     "output_type": "stream",
     "text": [
      "Epoch 17/30, Train Loss: 0.0832, Train Acc: 0.9872, Train F1: 0.9864\n",
      "Epoch 17/30, Val Loss: 0.0220, Val Acc: 0.9966, Val F1: 0.9965\n"
     ]
    },
    {
     "name": "stderr",
     "output_type": "stream",
     "text": [
      "Loss: 0.0007: 100%|██████████| 3925/3925 [03:39<00:00, 17.90it/s]\n",
      "Validating: 100%|██████████| 982/982 [00:27<00:00, 35.92it/s]\n"
     ]
    },
    {
     "name": "stdout",
     "output_type": "stream",
     "text": [
      "Epoch 18/30, Train Loss: 0.0835, Train Acc: 0.9881, Train F1: 0.9874\n",
      "Epoch 18/30, Val Loss: 0.0138, Val Acc: 0.9974, Val F1: 0.9973\n"
     ]
    },
    {
     "name": "stderr",
     "output_type": "stream",
     "text": [
      "Loss: 0.0000: 100%|██████████| 3925/3925 [03:41<00:00, 17.69it/s]\n",
      "Validating: 100%|██████████| 982/982 [00:27<00:00, 35.93it/s]\n"
     ]
    },
    {
     "name": "stdout",
     "output_type": "stream",
     "text": [
      "Epoch 19/30, Train Loss: 0.0778, Train Acc: 0.9893, Train F1: 0.9887\n",
      "Epoch 19/30, Val Loss: 0.0254, Val Acc: 0.9952, Val F1: 0.9950\n"
     ]
    },
    {
     "name": "stderr",
     "output_type": "stream",
     "text": [
      "Loss: 0.5561: 100%|██████████| 3925/3925 [03:39<00:00, 17.91it/s]\n",
      "Validating: 100%|██████████| 982/982 [00:27<00:00, 35.98it/s]\n"
     ]
    },
    {
     "name": "stdout",
     "output_type": "stream",
     "text": [
      "Epoch 20/30, Train Loss: 0.0720, Train Acc: 0.9888, Train F1: 0.9881\n",
      "Epoch 20/30, Val Loss: 0.0182, Val Acc: 0.9963, Val F1: 0.9962\n"
     ]
    },
    {
     "name": "stderr",
     "output_type": "stream",
     "text": [
      "Loss: 0.0019: 100%|██████████| 3925/3925 [03:39<00:00, 17.91it/s]\n",
      "Validating: 100%|██████████| 982/982 [00:27<00:00, 35.96it/s]\n"
     ]
    },
    {
     "name": "stdout",
     "output_type": "stream",
     "text": [
      "Epoch 21/30, Train Loss: 0.0630, Train Acc: 0.9902, Train F1: 0.9897\n",
      "Epoch 21/30, Val Loss: 0.0286, Val Acc: 0.9961, Val F1: 0.9960\n",
      "Epoch 00021: reducing learning rate of group 0 to 2.0000e-05.\n",
      "Early stopping triggered at epoch 21\n",
      "Fold 5 Macro F1 Score: 0.9960\n"
     ]
    },
    {
     "data": {
      "application/vnd.jupyter.widget-view+json": {
       "model_id": "ce6deacb82954f878c0e11309aaf0c25",
       "version_major": 2,
       "version_minor": 0
      },
      "text/plain": [
       "VBox(children=(Label(value='0.006 MB of 0.006 MB uploaded\\r'), FloatProgress(value=1.0, max=1.0)))"
      ]
     },
     "metadata": {},
     "output_type": "display_data"
    },
    {
     "data": {
      "text/html": [
       "<style>\n",
       "    table.wandb td:nth-child(1) { padding: 0 10px; text-align: left ; width: auto;} td:nth-child(2) {text-align: left ; width: 100%}\n",
       "    .wandb-row { display: flex; flex-direction: row; flex-wrap: wrap; justify-content: flex-start; width: 100% }\n",
       "    .wandb-col { display: flex; flex-direction: column; flex-basis: 100%; flex: 1; padding: 10px; }\n",
       "    </style>\n",
       "<div class=\"wandb-row\"><div class=\"wandb-col\"><h3>Run history:</h3><br/><table class=\"wandb\"><tr><td>epoch</td><td>▁▁▂▃▃▁▂▂▃▃▄▅▅▆▇▇▁▂▂▃▃▁▂▃▃▄▅▅▁▂▂▃▃▄▅▆▆▇▇█</td></tr><tr><td>train_acc</td><td>▁▆▇██▁▇▇████████▁▇▇██▆▇█████▁▇▇█████████</td></tr><tr><td>train_f1</td><td>▁▆▇██▁▇▇████████▁▇▇██▆▇█████▁▇▇█████████</td></tr><tr><td>train_loss</td><td>█▃▂▂▂█▂▂▂▂▁▁▁▁▁▁█▂▂▂▁▃▂▂▂▁▁▁█▂▂▂▂▁▁▁▁▁▁▁</td></tr><tr><td>val_acc</td><td>▁▅▇▇▇▁▆▇▇███████▁▆███▄▇▇▇███▂▆▇█████████</td></tr><tr><td>val_f1</td><td>▁▅▇▇▇▁▆▇████████▁▆███▄▇▇▇███▂▇▇█████████</td></tr><tr><td>val_loss</td><td>▂▂▁▁▃▃▁▁▁▁▁▁▁▁▁▁▃█▁▂▁▂▁▁▁▁▁▁▃▁▁▁▁▁▁▁▁▁▁▁</td></tr></table><br/></div><div class=\"wandb-col\"><h3>Run summary:</h3><br/><table class=\"wandb\"><tr><td>epoch</td><td>21</td></tr><tr><td>train_acc</td><td>0.99021</td></tr><tr><td>train_f1</td><td>0.98973</td></tr><tr><td>train_loss</td><td>0.06302</td></tr><tr><td>val_acc</td><td>0.99605</td></tr><tr><td>val_f1</td><td>0.99602</td></tr><tr><td>val_loss</td><td>0.02862</td></tr></table><br/></div></div>"
      ],
      "text/plain": [
       "<IPython.core.display.HTML object>"
      ]
     },
     "metadata": {},
     "output_type": "display_data"
    },
    {
     "data": {
      "text/html": [
       " View run <strong style=\"color:#cdcd00\">fold-voting_SAR_attention</strong> at: <a href='https://wandb.ai/kerynhan/v6_x50_class/runs/1rk9l0b4' target=\"_blank\">https://wandb.ai/kerynhan/v6_x50_class/runs/1rk9l0b4</a><br/> View project at: <a href='https://wandb.ai/kerynhan/v6_x50_class' target=\"_blank\">https://wandb.ai/kerynhan/v6_x50_class</a><br/>Synced 6 W&B file(s), 0 media file(s), 0 artifact file(s) and 0 other file(s)"
      ],
      "text/plain": [
       "<IPython.core.display.HTML object>"
      ]
     },
     "metadata": {},
     "output_type": "display_data"
    },
    {
     "data": {
      "text/html": [
       "Find logs at: <code>./wandb/run-20240811_085135-1rk9l0b4/logs</code>"
      ],
      "text/plain": [
       "<IPython.core.display.HTML object>"
      ]
     },
     "metadata": {},
     "output_type": "display_data"
    },
    {
     "data": {
      "text/html": [
       "The new W&B backend becomes opt-out in version 0.18.0; try it out with `wandb.require(\"core\")`! See https://wandb.me/wandb-core for more information."
      ],
      "text/plain": [
       "<IPython.core.display.HTML object>"
      ]
     },
     "metadata": {},
     "output_type": "display_data"
    }
   ],
   "source": [
    "import os\n",
    "import random\n",
    "import timm\n",
    "import torch\n",
    "import albumentations as A\n",
    "import pandas as pd\n",
    "import numpy as np\n",
    "import torch.nn as nn\n",
    "from albumentations.pytorch import ToTensorV2\n",
    "from torch.optim import AdamW\n",
    "from torch.optim.lr_scheduler import ReduceLROnPlateau\n",
    "from torch.utils.data import Dataset, DataLoader\n",
    "import torchvision.transforms as T\n",
    "from tqdm import tqdm\n",
    "from sklearn.metrics import accuracy_score, f1_score\n",
    "from sklearn.model_selection import StratifiedKFold\n",
    "from PIL import Image\n",
    "import wandb\n",
    "from scipy.stats import mode\n",
    "\n",
    "# 시드 고정\n",
    "SEED = 42\n",
    "os.environ['PYTHONHASHSEED'] = str(SEED)\n",
    "random.seed(SEED)\n",
    "np.random.seed(SEED)\n",
    "torch.manual_seed(SEED)\n",
    "torch.cuda.manual_seed(SEED)\n",
    "torch.cuda.manual_seed_all(SEED)\n",
    "torch.backends.cudnn.benchmark = True\n",
    "\n",
    "# WANDB 초기화\n",
    "wandb.login()\n",
    "wandb.init(project='v6_x50_class', name='fold-voting_SAR_attention')\n",
    "\n",
    "# 디바이스 설정\n",
    "device = torch.device('cuda' if torch.cuda.is_available() else 'cpu')\n",
    "\n",
    "# 데이터 경로 및 설정\n",
    "data_path_train = 'data/augmented_v3_x50/'\n",
    "data_path_test = 'data/test/'\n",
    "img_size = 224\n",
    "LR = 1e-4\n",
    "EPOCHS = 30\n",
    "BATCH_SIZE = 16\n",
    "num_workers = 16\n",
    "patience = 3\n",
    "WEIGHT_DECAY = 1e-4\n",
    "DROPOUT_PROB = 0.4\n",
    "\n",
    "# torchvision.transforms를 사용하여 추가적인 변형 정의\n",
    "additional_transforms = T.Compose([\n",
    "    T.RandomErasing(p=0.3, scale=(0.02, 0.33), ratio=(0.3, 3.3), value='random'),\n",
    "])\n",
    "\n",
    "# 데이터셋 클래스에서 추가적인 변형을 적용할 수 있도록 수정\n",
    "class ImageDataset(Dataset):\n",
    "    def __init__(self, df, path, transform=None, additional_transforms=None):\n",
    "        self.df = df.values\n",
    "        self.path = path\n",
    "        self.transform = transform\n",
    "        self.additional_transforms = additional_transforms\n",
    "\n",
    "    def __len__(self):\n",
    "        return len(self.df)\n",
    "\n",
    "    def __getitem__(self, idx):\n",
    "        name, target = self.df[idx]\n",
    "        img = Image.open(os.path.join(self.path, name)).convert(\"RGB\")\n",
    "        \n",
    "        # 기본 transform 적용\n",
    "        if self.transform:\n",
    "            img = self.transform(image=np.array(img))['image']  # numpy 배열로 변환 후 transform 적용\n",
    "        \n",
    "        # 추가 변형 적용\n",
    "        if self.additional_transforms:\n",
    "            img = self.additional_transforms(img)\n",
    "        \n",
    "        return img, target\n",
    "\n",
    "# SAR 모델 정의\n",
    "class CustomSAR(nn.Module):\n",
    "    def __init__(self, num_classes=17, dropout_prob=0.5, embed_dim=1024):\n",
    "        super(CustomSAR, self).__init__()\n",
    "        self.model = timm.create_model('resnet50', pretrained=True)\n",
    "        num_features = self.model.fc.in_features\n",
    "        \n",
    "        # Attention 레이어를 위한 FC 레이어\n",
    "        self.fc1 = nn.Linear(num_features, embed_dim)\n",
    "        \n",
    "        self.attention = nn.MultiheadAttention(embed_dim=embed_dim, num_heads=8, dropout=dropout_prob)\n",
    "        \n",
    "        # Attention 후 최종 분류를 위한 FC 레이어\n",
    "        self.fc2 = nn.Sequential(\n",
    "            nn.Linear(embed_dim, 1024),\n",
    "            nn.ReLU(),\n",
    "            nn.Dropout(dropout_prob),\n",
    "            nn.Linear(1024, num_classes)\n",
    "        )\n",
    "\n",
    "    def forward(self, x):\n",
    "        features = self.model.forward_features(x)  # ResNet의 특징 추출\n",
    "\n",
    "        # Global Average Pooling 적용 (feature map을 평탄화하여 벡터로 변환)\n",
    "        features = torch.mean(features, dim=[2, 3])  # [Batch Size, Channels]\n",
    "\n",
    "        features = self.fc1(features)  # 임베딩 차원으로 변환\n",
    "\n",
    "        # features의 차원을 [Seq Length, Batch Size, Embedding Dim]으로 맞춤\n",
    "        features = features.unsqueeze(0)  # [1, Batch Size, Embedding Dim] 형태로 변경\n",
    "\n",
    "        attn_output, _ = self.attention(features, features, features)\n",
    "        attn_output = attn_output.squeeze(0)  # [Batch Size, Embedding Dim] 형태로 변환\n",
    "\n",
    "        return self.fc2(attn_output)  # 최종 분류 레이어로 전달\n",
    "\n",
    "\n",
    "# 학습 함수 정의\n",
    "def train_one_epoch(loader, model, optimizer, loss_fn, device, scaler, clip_value=0.5):\n",
    "    model.train()\n",
    "    train_loss = 0\n",
    "    preds_list = []\n",
    "    targets_list = []\n",
    "\n",
    "    pbar = tqdm(loader, desc=\"Training\")\n",
    "    for image, targets in pbar:\n",
    "        image = image.to(device)\n",
    "        targets = targets.to(device)\n",
    "\n",
    "        optimizer.zero_grad()\n",
    "        with torch.cuda.amp.autocast():\n",
    "            preds = model(image)\n",
    "            loss = loss_fn(preds, targets)\n",
    "        \n",
    "        scaler.scale(loss).backward()\n",
    "        scaler.unscale_(optimizer)\n",
    "        torch.nn.utils.clip_grad_norm_(model.parameters(), clip_value)\n",
    "        scaler.step(optimizer)\n",
    "        scaler.update()\n",
    "\n",
    "        train_loss += loss.item()\n",
    "        preds_list.extend(preds.argmax(dim=1).detach().cpu().numpy())\n",
    "        targets_list.extend(targets.detach().cpu().numpy())\n",
    "\n",
    "        pbar.set_description(f\"Loss: {loss.item():.4f}\")\n",
    "\n",
    "    train_loss /= len(loader)\n",
    "    train_acc = accuracy_score(targets_list, preds_list)\n",
    "    train_f1 = f1_score(targets_list, preds_list, average='macro')\n",
    "\n",
    "    ret = {\n",
    "        \"train_loss\": train_loss,\n",
    "        \"train_acc\": train_acc,\n",
    "        \"train_f1\": train_f1,\n",
    "    }\n",
    "\n",
    "    return ret\n",
    "\n",
    "# 검증 함수 정의\n",
    "def validate(loader, model, loss_fn, device):\n",
    "    model.eval()\n",
    "    val_loss = 0\n",
    "    preds_list = []\n",
    "    targets_list = []\n",
    "\n",
    "    with torch.no_grad():\n",
    "        for image, targets in tqdm(loader, desc=\"Validating\"):\n",
    "            image = image.to(device)\n",
    "            targets = targets.to(device)\n",
    "\n",
    "            preds = model(image)\n",
    "            loss = loss_fn(preds, targets)\n",
    "\n",
    "            val_loss += loss.item()\n",
    "            preds_list.extend(preds.argmax(dim=1).detach().cpu().numpy())\n",
    "            targets_list.extend(targets.detach().cpu().numpy())\n",
    "\n",
    "    val_loss /= len(loader)\n",
    "    val_acc = accuracy_score(targets_list, preds_list)\n",
    "    val_f1 = f1_score(targets_list, preds_list, average='macro')\n",
    "\n",
    "    ret = {\n",
    "        \"val_loss\": val_loss,\n",
    "        \"val_acc\": val_acc,\n",
    "        \"val_f1\": val_f1,\n",
    "    }\n",
    "\n",
    "    return ret\n",
    "\n",
    "# augmentation을 위한 transform 정의\n",
    "trn_transform = A.Compose([\n",
    "    A.Resize(height=img_size, width=img_size),\n",
    "    A.HorizontalFlip(p=0.5),\n",
    "    A.RandomBrightnessContrast(p=0.2),\n",
    "    A.ShiftScaleRotate(shift_limit=0.1, scale_limit=0.1, rotate_limit=15, p=0.5),\n",
    "    A.CoarseDropout(p=0.5),\n",
    "    A.GaussianBlur(p=0.3),\n",
    "    A.Normalize(mean=[0.485, 0.456, 0.406], std=[0.229, 0.224, 0.225]),\n",
    "    ToTensorV2(),\n",
    "])\n",
    "\n",
    "# 데이터 로드\n",
    "train_df_test = pd.read_csv('data/augment_v3_x50.csv')\n",
    "test_df_test = pd.read_csv('data/sample_submission.csv')\n",
    "\n",
    "# 클래스별 가중치 계산\n",
    "class_counts = train_df_test['target'].value_counts().sort_index()\n",
    "total_samples = len(train_df_test)\n",
    "class_weights = [total_samples / class_counts[i] for i in range(len(class_counts))]\n",
    "class_weights = np.array(class_weights)\n",
    "class_weights = class_weights / class_weights.sum() * len(class_counts)\n",
    "class_weights = torch.tensor(class_weights, dtype=torch.float).to(device)\n",
    "\n",
    "# Stratified K-Fold 설정\n",
    "n_splits = 5\n",
    "skf = StratifiedKFold(n_splits=n_splits, shuffle=True, random_state=SEED)\n",
    "folds = list(skf.split(train_df_test['ID'], train_df_test['target']))\n",
    "\n",
    "# 학습 및 검증 루프\n",
    "best_val_loss = float('inf')\n",
    "fold_val_metrics = []\n",
    "best_model_paths = []\n",
    "\n",
    "for fold, (train_idx, val_idx) in enumerate(folds):\n",
    "    print(f\"Fold {fold + 1}\")\n",
    "\n",
    "    trn_dataset = ImageDataset(\n",
    "        train_df_test.iloc[train_idx],\n",
    "        data_path_train,\n",
    "        transform=trn_transform,\n",
    "        additional_transforms=additional_transforms  # 추가 변형 적용\n",
    "    )\n",
    "\n",
    "    val_dataset = ImageDataset(\n",
    "        train_df_test.iloc[val_idx],\n",
    "        data_path_train,\n",
    "        transform=trn_transform  # 수정된 부분\n",
    "    )\n",
    "\n",
    "    trn_loader = DataLoader(\n",
    "        trn_dataset,\n",
    "        batch_size=BATCH_SIZE,\n",
    "        shuffle=True,\n",
    "        num_workers=num_workers,\n",
    "        pin_memory=True,\n",
    "        drop_last=False\n",
    "    )\n",
    "\n",
    "    val_loader = DataLoader(\n",
    "        val_dataset,\n",
    "        batch_size=BATCH_SIZE,\n",
    "        shuffle=False,\n",
    "        num_workers=num_workers,\n",
    "        pin_memory=True\n",
    "    )\n",
    "\n",
    "    # 모델 정의 (SAR로 변경)\n",
    "    model = CustomSAR(num_classes=17, dropout_prob=DROPOUT_PROB).to(device)\n",
    "\n",
    "    loss_fn = nn.CrossEntropyLoss(weight=class_weights)\n",
    "    optimizer = AdamW(model.parameters(), lr=LR, weight_decay=WEIGHT_DECAY)\n",
    "    scheduler = ReduceLROnPlateau(optimizer, mode='min', factor=0.2, patience=2, verbose=True)\n",
    "    scaler = torch.cuda.amp.GradScaler()\n",
    "\n",
    "    fold_best_val_loss = float('inf')\n",
    "    fold_best_model_path = f'best_model_fold_{fold + 1}_class_x50_SAR_attention.pth'\n",
    "    patience_counter = 0\n",
    "\n",
    "    for epoch in range(EPOCHS):\n",
    "        train_metrics = train_one_epoch(trn_loader, model, optimizer, loss_fn, device, scaler)\n",
    "        val_metrics = validate(val_loader, model, loss_fn, device)\n",
    "\n",
    "        print(f\"Epoch {epoch + 1}/{EPOCHS}, Train Loss: {train_metrics['train_loss']:.4f}, Train Acc: {train_metrics['train_acc']:.4f}, Train F1: {train_metrics['train_f1']:.4f}\")\n",
    "        print(f\"Epoch {epoch + 1}/{EPOCHS}, Val Loss: {val_metrics['val_loss']:.4f}, Val Acc: {val_metrics['val_acc']:.4f}, Val F1: {val_metrics['val_f1']:.4f}\")\n",
    "\n",
    "        # WANDB 로그 기록\n",
    "        wandb.log({\n",
    "            'epoch': epoch + 1,\n",
    "            'train_loss': train_metrics['train_loss'],\n",
    "            'train_acc': train_metrics['train_acc'],\n",
    "            'train_f1': train_metrics['train_f1'],\n",
    "            'val_loss': val_metrics['val_loss'],\n",
    "            'val_acc': val_metrics['val_acc'],\n",
    "            'val_f1': val_metrics['val_f1']\n",
    "        })\n",
    "\n",
    "        scheduler.step(val_metrics['val_loss'])  # 수정된 부분\n",
    "\n",
    "        if val_metrics['val_loss'] < fold_best_val_loss:\n",
    "            fold_best_val_loss = val_metrics['val_loss']\n",
    "            torch.save(model.state_dict(), fold_best_model_path)\n",
    "            patience_counter = 0\n",
    "        else:\n",
    "            patience_counter += 1\n",
    "\n",
    "        if patience_counter >= patience:\n",
    "            print(f\"Early stopping triggered at epoch {epoch + 1}\")\n",
    "            break\n",
    "\n",
    "    best_model_paths.append(fold_best_model_path)\n",
    "    fold_val_metrics.append((fold_best_val_loss, val_metrics['val_f1']))\n",
    "    print(f\"Fold {fold + 1} Macro F1 Score: {val_metrics['val_f1']:.4f}\")\n",
    "\n",
    "wandb.finish()\n",
    "\n"
   ]
  },
  {
   "cell_type": "code",
   "execution_count": 2,
   "metadata": {},
   "outputs": [
    {
     "name": "stdout",
     "output_type": "stream",
     "text": [
      "Mean Validation Loss: 0.0358, Mean Validation F1 Score: 0.9918\n",
      "최종 제출 파일이 저장되었습니다.\n"
     ]
    }
   ],
   "source": [
    "# Test 데이터셋에 대한 변환 정의\n",
    "tst_transform = A.Compose([\n",
    "    A.Resize(height=img_size, width=img_size),\n",
    "    A.Normalize(mean=[0.485, 0.456, 0.406], std=[0.229, 0.224, 0.225]),\n",
    "    ToTensorV2(),\n",
    "])\n",
    "\n",
    "# 테스트 데이터 예측 및 결과 저장\n",
    "test_dataset = ImageDataset(test_df_test, data_path_test, transform=tst_transform)\n",
    "test_loader = DataLoader(test_dataset, batch_size=BATCH_SIZE, shuffle=False, num_workers=num_workers, pin_memory=True)\n",
    "\n",
    "# 폴드별 예측 결과 저장\n",
    "fold_preds = []\n",
    "\n",
    "for fold in range(n_splits):\n",
    "    model = CustomSAR(num_classes=17, dropout_prob=DROPOUT_PROB).to(device)\n",
    "    model.load_state_dict(torch.load(best_model_paths[fold]))\n",
    "    model.eval()\n",
    "\n",
    "    fold_pred = []\n",
    "\n",
    "    # 테스트 데이터에 대한 예측\n",
    "    with torch.no_grad():\n",
    "        for images, _ in test_loader:\n",
    "            images = images.to(device)\n",
    "            output = model(images)\n",
    "            fold_pred.extend(output.argmax(dim=1).cpu().numpy())\n",
    "\n",
    "    fold_preds.append(np.array(fold_pred))\n",
    "\n",
    "# 폴드별 예측을 모드 계산하여 최종 예측 생성\n",
    "final_class_preds = mode(np.array(fold_preds), axis=0).mode[0]\n",
    "\n",
    "# 결과 저장\n",
    "submission = pd.DataFrame({'ID': test_df_test['ID'], 'target': final_class_preds})\n",
    "submission.to_csv('submit_v6_x50_class_SAR_attention.csv', index=False)\n",
    "\n",
    "# 최종 검증 성능 출력\n",
    "mean_val_loss = np.mean([m[0] for m in fold_val_metrics])\n",
    "mean_val_f1 = np.mean([m[1] for m in fold_val_metrics])\n",
    "\n",
    "print(f\"Mean Validation Loss: {mean_val_loss:.4f}, Mean Validation F1 Score: {mean_val_f1:.4f}\")\n",
    "print(\"최종 제출 파일이 저장되었습니다.\")"
   ]
  },
  {
   "cell_type": "code",
   "execution_count": 3,
   "metadata": {},
   "outputs": [
    {
     "ename": "IndexError",
     "evalue": "tuple index out of range",
     "output_type": "error",
     "traceback": [
      "\u001b[0;31m---------------------------------------------------------------------------\u001b[0m",
      "\u001b[0;31mIndexError\u001b[0m                                Traceback (most recent call last)",
      "Cell \u001b[0;32mIn[3], line 2\u001b[0m\n\u001b[1;32m      1\u001b[0m \u001b[38;5;66;03m# 최종 검증 성능 출력\u001b[39;00m\n\u001b[0;32m----> 2\u001b[0m mean_val_acc \u001b[38;5;241m=\u001b[39m np\u001b[38;5;241m.\u001b[39mmean([m[\u001b[38;5;241m2\u001b[39m] \u001b[38;5;28;01mfor\u001b[39;00m m \u001b[38;5;129;01min\u001b[39;00m fold_val_metrics])\n\u001b[1;32m      4\u001b[0m \u001b[38;5;28mprint\u001b[39m(\u001b[38;5;124mf\u001b[39m\u001b[38;5;124m\"\u001b[39m\u001b[38;5;124mMean Validation Accuracy: \u001b[39m\u001b[38;5;132;01m{\u001b[39;00mmean_val_acc\u001b[38;5;132;01m:\u001b[39;00m\u001b[38;5;124m.4f\u001b[39m\u001b[38;5;132;01m}\u001b[39;00m\u001b[38;5;124m\"\u001b[39m)\n",
      "Cell \u001b[0;32mIn[3], line 2\u001b[0m, in \u001b[0;36m<listcomp>\u001b[0;34m(.0)\u001b[0m\n\u001b[1;32m      1\u001b[0m \u001b[38;5;66;03m# 최종 검증 성능 출력\u001b[39;00m\n\u001b[0;32m----> 2\u001b[0m mean_val_acc \u001b[38;5;241m=\u001b[39m np\u001b[38;5;241m.\u001b[39mmean([\u001b[43mm\u001b[49m\u001b[43m[\u001b[49m\u001b[38;5;241;43m2\u001b[39;49m\u001b[43m]\u001b[49m \u001b[38;5;28;01mfor\u001b[39;00m m \u001b[38;5;129;01min\u001b[39;00m fold_val_metrics])\n\u001b[1;32m      4\u001b[0m \u001b[38;5;28mprint\u001b[39m(\u001b[38;5;124mf\u001b[39m\u001b[38;5;124m\"\u001b[39m\u001b[38;5;124mMean Validation Accuracy: \u001b[39m\u001b[38;5;132;01m{\u001b[39;00mmean_val_acc\u001b[38;5;132;01m:\u001b[39;00m\u001b[38;5;124m.4f\u001b[39m\u001b[38;5;132;01m}\u001b[39;00m\u001b[38;5;124m\"\u001b[39m)\n",
      "\u001b[0;31mIndexError\u001b[0m: tuple index out of range"
     ]
    }
   ],
   "source": [
    "# 최종 검증 성능 출력\n",
    "mean_val_acc = np.mean([m[2] for m in fold_val_metrics])\n",
    "\n",
    "print(f\"Mean Validation Accuracy: {mean_val_acc:.4f}\")"
   ]
  }
 ],
 "metadata": {
  "kernelspec": {
   "display_name": "base",
   "language": "python",
   "name": "python3"
  },
  "language_info": {
   "codemirror_mode": {
    "name": "ipython",
    "version": 3
   },
   "file_extension": ".py",
   "mimetype": "text/x-python",
   "name": "python",
   "nbconvert_exporter": "python",
   "pygments_lexer": "ipython3",
   "version": "3.10.13"
  }
 },
 "nbformat": 4,
 "nbformat_minor": 2
}
